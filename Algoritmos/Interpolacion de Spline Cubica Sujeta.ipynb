{
 "cells": [
  {
   "cell_type": "markdown",
   "metadata": {},
   "source": [
    "# Funciones extra"
   ]
  },
  {
   "cell_type": "code",
   "execution_count": 1,
   "metadata": {},
   "outputs": [],
   "source": [
    "# Plot polynomials\n",
    "\n",
    "def plotPoly(polys, name, L, R):\n",
    "    x = var('x')\n",
    "    a = plot([],figsize=(8, 8),title=name)\n",
    "    classic_colors = ['crimson', 'blue', 'green', 'orange', 'purple', 'brown', 'red', 'yellow']\n",
    "    n = len(polys)\n",
    "    assert(n > 0)\n",
    "    assert(len(L) == n and len(R) == n)\n",
    "    for i in range(n):\n",
    "        a += plot(polys[i], x, L[i], R[i], color=colors.keys()[i])\n",
    "    show(a)"
   ]
  },
  {
   "cell_type": "code",
   "execution_count": 2,
   "metadata": {},
   "outputs": [],
   "source": [
    "# Parse polynomial with coefficients\n",
    "\n",
    "def parsePoly(poly):\n",
    "    var('x')\n",
    "    ans = 0\n",
    "    mono = 1;\n",
    "    for i in range(len(poly.list())):\n",
    "        ans += poly.list()[i] * mono\n",
    "        mono *= x\n",
    "    return ans"
   ]
  },
  {
   "cell_type": "code",
   "execution_count": 3,
   "metadata": {},
   "outputs": [],
   "source": [
    "# Plot polynomials with interpolation method \"interpolation\"\n",
    "\n",
    "def plotPolylines(groups, name, interpolation):\n",
    "    polynomials = []\n",
    "    L = []\n",
    "    R = []\n",
    "    for points in groups:\n",
    "        p = parsePoly(interpolation(points))\n",
    "        polynomials.append(p)\n",
    "        minimum = points[0][0]\n",
    "        maximum = points[0][0]\n",
    "        for i in range(1, len(points)):\n",
    "            if points[i][0] < minimum: minimum = points[i][0]\n",
    "            if points[i][0] > maximum: maximum = points[i][0]\n",
    "        L.append(minimum)\n",
    "        R.append(maximum)\n",
    "    plotPoly(polynomials, name, L, R)"
   ]
  },
  {
   "cell_type": "code",
   "execution_count": 23,
   "metadata": {},
   "outputs": [],
   "source": [
    "from sage.misc.lazy_format import LazyFormat\n",
    "\n",
    "def printPolynomials(polys):\n",
    "    for p in polys:\n",
    "        print(p[0])\n",
    "        print(LazyFormat(\"L = %d\") % p[1])\n",
    "        print(LazyFormat(\"R = %d\") % p[2])"
   ]
  },
  {
   "cell_type": "code",
   "execution_count": 24,
   "metadata": {},
   "outputs": [],
   "source": [
    "def plotSpline(polys, name):\n",
    "    polynomials = []\n",
    "    L = []\n",
    "    R = []\n",
    "    for p in polys:\n",
    "        polynomials.append(p[0])\n",
    "        L.append(p[1])\n",
    "        R.append(p[2])\n",
    "    plotPoly(polynomials, name, L, R)"
   ]
  },
  {
   "cell_type": "markdown",
   "metadata": {},
   "source": [
    "# Algoritmos para Spline Cubica Sujeta"
   ]
  },
  {
   "cell_type": "code",
   "execution_count": 7,
   "metadata": {},
   "outputs": [],
   "source": [
    "def Gaussian(a, b):\n",
    "    n = len(a)\n",
    "    assert(n > 1)\n",
    "    m = len(a[0])\n",
    "    assert(m > 1)\n",
    "    assert(len(b) == n)\n",
    "    EPS = 1e-15\n",
    "    ans = [None for _ in range(m)]\n",
    "    where = [-1 for _ in range(m)]\n",
    "    row = 0\n",
    "    col = 0\n",
    "    while(row < n and col < m):\n",
    "        sel = row\n",
    "        for i in range(row, n):\n",
    "            if abs(a[i][col]) > abs(a[sel][col]):\n",
    "                sel = i\n",
    "        if abs(a[sel][col]) < EPS:\n",
    "            continue\n",
    "        for i in range(col, m):\n",
    "            a[sel][i], a[row][i] = a[row][i], a[sel][i]\n",
    "        b[sel], b[row] = b[row], b[sel]\n",
    "        where[col] = row\n",
    "        for i in range(n):\n",
    "            if i == row: continue\n",
    "            c = a[i][col] / a[row][col]\n",
    "            for j in range(col, m):\n",
    "                a[i][j] -= a[row][j] * c\n",
    "            b[i] -= b[row] * c\n",
    "        row += 1\n",
    "        col += 1\n",
    "    for i in range(m):\n",
    "        if where[i] == -1: continue\n",
    "        ans[i] = b[where[i]] / a[where[i]][i]\n",
    "    for i in range(n):\n",
    "        s = 0\n",
    "        for j in range(m):\n",
    "            s += a[i][j] * ans[j]\n",
    "        if abs(s - b[i]) > EPS:\n",
    "            for k in range(m):\n",
    "                ans[k] = None\n",
    "            return ans\n",
    "    return ans"
   ]
  },
  {
   "cell_type": "code",
   "execution_count": 10,
   "metadata": {},
   "outputs": [],
   "source": [
    "def CubicSplineSujeta(points, ds0, dsn):\n",
    "    n = len(points) - 1\n",
    "    assert(n > 0)\n",
    "    h = [ points[i+1][0] - points[i][0] for i in range(n)]\n",
    "    beta = [ (points[i+1][1] - points[i][1]) / h[i] for i in range(n) ]\n",
    "    v = [ (None if i == 0 else 6 * (beta[i] - beta[i - 1])) for i in range(n)]\n",
    "    a = [ [None for _ in range(n - 1)] for _ in range(n - 1) ]\n",
    "    b = [None for _ in range(n - 1)]\n",
    "    a[0][0] = 3 * h[0] / 2 + 2 * h[1]\n",
    "    a[0][1] = h[1]\n",
    "    for i in range(1, n - 2):\n",
    "        a[i][i] = 2 * (h[i] + h[i+1])\n",
    "        a[i][i-1] = h[i]\n",
    "        a[i][i+1] = h[i+1]\n",
    "    a[n-2][n-3] = h[n-2]\n",
    "    a[n-2][n-2] = 2 * h[n-2] + 3 * h[n-1] / 2\n",
    "    b[0] = v[1] - 3 * (beta[0] - ds0)\n",
    "    for i in range(1, n - 2):\n",
    "        b[i] = v[i]\n",
    "    b[n-2] = v[n-1] - 3 * (dsn - beta[n-1])\n",
    "    lamb = Gaussian(a, b) # Solve Linear System Ax = b\n",
    "    lambdas = [None for _ in range(n + 1)]\n",
    "    lambdas[0] = 3 * (beta[0] - ds0) / h[0] - lamb[0] / 2\n",
    "    lambdas[n] = 3 * (dsn - beta[n-1]) / h[n-1] - lamb[n-2] / 2\n",
    "    for i in range(1, n):\n",
    "        lambdas[i] = lamb[i-1]\n",
    "    A = [points[i][1] for i in range(n)]\n",
    "    B = [ (beta[i] - h[i] * (2 * lambdas[i] + lambdas[i+1]) / 6) for i in range(n)]\n",
    "    C = [lambdas[i] / 2 for i in range(n)]\n",
    "    D = [(lambdas[i+1] - lambdas[i]) / 6 / h[i] for i in range(n)]\n",
    "    polynomials = []\n",
    "    var('x')\n",
    "    for i in range(n):\n",
    "        cur = A[i] + B[i] * (x - points[i][0]) + C[i] * (x - points[i][0]) ** 2 + D[i] * (x - points[i][0]) ** 3\n",
    "        polynomials.append([cur, points[i][0], points[i+1][0]])\n",
    "    return polynomials # Returns polynomials with left and right limits for X"
   ]
  },
  {
   "cell_type": "markdown",
   "metadata": {},
   "source": [
    "# Ejemplo"
   ]
  },
  {
   "cell_type": "code",
   "execution_count": 22,
   "metadata": {},
   "outputs": [
    {
     "name": "stdout",
     "output_type": "stream",
     "text": [
      "0.00198960908395519*(x - 1)^3 - 0.0411376717509517*(x - 1)^2 + 0.333330000000000*x + 0.666670000000000\n",
      "L = 1\n",
      "R = 8\n",
      "-0.0000262654102791189*(x - 8)^3 + 0.000644119012107381*(x - 8)^2 + 0.0498751308280901*x + 1.60099895337528\n",
      "L = 8\n",
      "R = 27\n",
      "(9.26381293048268e-6)*(x - 27)^3 - 0.000853009373802394*(x - 27)^2 + 0.0459062139558848*x + 1.76053222319111\n",
      "L = 27\n",
      "R = 64\n"
     ]
    }
   ],
   "source": [
    "points = [(1, 1), (8, 2), (27, 3), (64, 4)]\n",
    "\n",
    "P = CubicSplineSujeta(points, 0.33333, 0.02083) # S'(1) = 0.33333 and S'(64) = 0.02083\n",
    "\n",
    "printPolynomials(P)"
   ]
  },
  {
   "cell_type": "code",
   "execution_count": 25,
   "metadata": {},
   "outputs": [
    {
     "data": {
      "image/png": "[encoded data removed]",
      "text/plain": [
       "Graphics object consisting of 3 graphics primitives"
      ]
     },
     "metadata": {},
     "output_type": "display_data"
    }
   ],
   "source": [
    "points = [(1, 1), (8, 2), (27, 3), (64, 4)]\n",
    "\n",
    "P = CubicSplineSujeta(points, 0.33333, 0.02083) # S'(1) = 0.33333 and S'(64) = 0.02083\n",
    "\n",
    "plotSpline(P, \"Cercha cubica sujeta\")"
   ]
  }
 ],
 "metadata": {
  "kernelspec": {
   "display_name": "SageMath 8.1",
   "language": "",
   "name": "sagemath"
  },
  "language_info": {
   "codemirror_mode": {
    "name": "ipython",
    "version": 2
   },
   "file_extension": ".py",
   "mimetype": "text/x-python",
   "name": "python",
   "nbconvert_exporter": "python",
   "pygments_lexer": "ipython2",
   "version": "2.7.17"
  }
 },
 "nbformat": 4,
 "nbformat_minor": 2
}
