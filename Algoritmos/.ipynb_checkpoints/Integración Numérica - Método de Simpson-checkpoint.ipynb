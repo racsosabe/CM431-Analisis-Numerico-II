{
 "cells": [
  {
   "cell_type": "markdown",
   "metadata": {},
   "source": [
    "# Funciones Extra"
   ]
  },
  {
   "cell_type": "code",
   "execution_count": 1,
   "metadata": {},
   "outputs": [],
   "source": [
    "# Plot polynomials\n",
    "\n",
    "def plotPoly(polys, name, L, R):\n",
    "    x = var('x')\n",
    "    a = plot([],figsize=(8, 8),title=name)\n",
    "    classic_colors = ['crimson', 'blue', 'green', 'orange', 'purple', 'brown', 'red', 'yellow']\n",
    "    n = len(polys)\n",
    "    assert(n > 0)\n",
    "    assert(len(L) == n and len(R) == n)\n",
    "    for i in range(n):\n",
    "        a += plot(polys[i], x, L[i], R[i], color=colors.keys()[i])\n",
    "    show(a)"
   ]
  },
  {
   "cell_type": "code",
   "execution_count": 2,
   "metadata": {},
   "outputs": [],
   "source": [
    "# Parse polynomial with coefficients\n",
    "\n",
    "def parsePoly(poly):\n",
    "    var('x')\n",
    "    ans = 0\n",
    "    mono = 1;\n",
    "    for i in range(len(poly.list())):\n",
    "        ans += poly.list()[i] * mono\n",
    "        mono *= x\n",
    "    return ans"
   ]
  },
  {
   "cell_type": "code",
   "execution_count": 3,
   "metadata": {},
   "outputs": [],
   "source": [
    "# Plot polynomials with interpolation method \"interpolation\"\n",
    "\n",
    "def plotPolylines(groups, name, interpolation):\n",
    "    polynomials = []\n",
    "    L = []\n",
    "    R = []\n",
    "    for points in groups:\n",
    "        p = parsePoly(interpolation(points))\n",
    "        polynomials.append(p)\n",
    "        minimum = points[0][0]\n",
    "        maximum = points[0][0]\n",
    "        for i in range(1, len(points)):\n",
    "            if points[i][0] < minimum: minimum = points[i][0]\n",
    "            if points[i][0] > maximum: maximum = points[i][0]\n",
    "        L.append(minimum)\n",
    "        R.append(maximum)\n",
    "    plotPoly(polynomials, name, L, R)"
   ]
  },
  {
   "cell_type": "markdown",
   "metadata": {},
   "source": [
    "# Algoritmos para Método de Simpson"
   ]
  },
  {
   "cell_type": "code",
   "execution_count": 7,
   "metadata": {},
   "outputs": [],
   "source": [
    "def SimpsonSimple(f, a, b):\n",
    "    return (f(a) + 4 * f((a + b) / 2) + f(b)) * (b - a) / 6"
   ]
  },
  {
   "cell_type": "code",
   "execution_count": 6,
   "metadata": {},
   "outputs": [],
   "source": [
    "def Simpson38Simple(f, a, b):\n",
    "    h = (b - a) / 3.0\n",
    "    mi1 = (2 * a + b) / 3.0\n",
    "    mi2 = (a + 2 * b) / 3.0\n",
    "    return 3 * h * (f(a) + 3 * f(mi1) + 3 * f(mi2) + f(b)) / 8"
   ]
  },
  {
   "cell_type": "code",
   "execution_count": 13,
   "metadata": {},
   "outputs": [],
   "source": [
    "def SimpsonCompuesta(points, h):\n",
    "    n = len(points)\n",
    "    I = 0\n",
    "    for i in range(1, n - 1):\n",
    "        if i % 2 == 1:\n",
    "            I += points[i][1] * 4\n",
    "        else:\n",
    "            I += points[i][1] * 2\n",
    "    I += points[0][1] + points[-1][1]\n",
    "    I *= h / 3\n",
    "    return I"
   ]
  },
  {
   "cell_type": "code",
   "execution_count": 5,
   "metadata": {},
   "outputs": [],
   "source": [
    "def SimpsonCompuestaConFuncion(f, a, b, n):\n",
    "    h = (b - a) / n\n",
    "    I = 0\n",
    "    for i in range(1, n):\n",
    "        cur_x = a + i * h\n",
    "        if i % 2 == 1:\n",
    "            I += f(cur_x) * 4\n",
    "        else:\n",
    "            I += f(cur_x) * 2\n",
    "    I += f(a) + f(b)\n",
    "    I *= h / 3\n",
    "    return I"
   ]
  },
  {
   "cell_type": "code",
   "execution_count": 21,
   "metadata": {},
   "outputs": [],
   "source": [
    "def Simpson38Compuesta(points, h):\n",
    "    n = len(points)\n",
    "    assert(n % 3 == 1)\n",
    "    I = 0\n",
    "    for i in range(1, n - 1):\n",
    "        if i % 3 == 0:\n",
    "            I += points[i][1] * 2\n",
    "        else:\n",
    "            I += points[i][1] * 3\n",
    "    I += points[0][1] + points[-1][1]\n",
    "    I *= 3 * h / 8\n",
    "    return I"
   ]
  },
  {
   "cell_type": "code",
   "execution_count": 22,
   "metadata": {},
   "outputs": [],
   "source": [
    "def Simpson38CompuestaConFuncion(f, a, b, n):\n",
    "    assert(n % 3 == 0)\n",
    "    h = (b - a) / n\n",
    "    I = 0\n",
    "    for i in range(1, n):\n",
    "        cur_x = a + i * h\n",
    "        if i % 3 == 0:\n",
    "            I += f(cur_x) * 2\n",
    "        else:\n",
    "            I += f(cur_x) * 3\n",
    "    I += f(a) + f(b)\n",
    "    I *= 3 * h / 8\n",
    "    return I"
   ]
  },
  {
   "cell_type": "markdown",
   "metadata": {},
   "source": [
    "# Ejemplo"
   ]
  },
  {
   "cell_type": "code",
   "execution_count": 23,
   "metadata": {},
   "outputs": [],
   "source": [
    "points = [(1, 3.141592), (1.25,3.121858), (1.5,3.659284), (1.75,4.350071), (2,5.224852), (2.25,6.325157), (2.5,7.704886), (2.75,9.432862), (3,11.596390)]"
   ]
  },
  {
   "cell_type": "code",
   "execution_count": 24,
   "metadata": {},
   "outputs": [
    {
     "name": "stdout",
     "output_type": "stream",
     "text": [
      "11.7363181666667\n"
     ]
    }
   ],
   "source": [
    "print(SimpsonCompuesta(points, 0.25))"
   ]
  },
  {
   "cell_type": "code",
   "execution_count": 25,
   "metadata": {},
   "outputs": [
    {
     "name": "stdout",
     "output_type": "stream",
     "text": [
      "11.7010420446009334077385345528\n",
      "11.7011096413698417293816108442\n",
      "11.7008678922047284674748318910\n"
     ]
    },
    {
     "name": "stderr",
     "output_type": "stream",
     "text": [
      "/usr/lib/python2.7/dist-packages/sage/repl/ipython_kernel/__main__.py:6: DeprecationWarning: Substitution using function-call syntax and unnamed arguments is deprecated and will be removed from a future release of Sage; you can use named arguments instead, like EXPR(x=..., y=...)\n",
      "See http://trac.sagemath.org/5930 for details.\n",
      "/usr/lib/python2.7/dist-packages/sage/repl/ipython_kernel/__main__.py:7: DeprecationWarning: Substitution using function-call syntax and unnamed arguments is deprecated and will be removed from a future release of Sage; you can use named arguments instead, like EXPR(x=..., y=...)\n",
      "See http://trac.sagemath.org/5930 for details.\n"
     ]
    }
   ],
   "source": [
    "var('x')\n",
    "f = exp(x) / sqrt(x)\n",
    "\n",
    "g = integrate(f)\n",
    "\n",
    "print(SimpsonCompuestaConFuncion(f, 1, 3, 8).n(digits = 30))\n",
    "print(Simpson38CompuestaConFuncion(f, 1, 3, 9).n(digits = 30))\n",
    "print((g(3) - g(1)).n(digits = 30))"
   ]
  }
 ],
 "metadata": {
  "kernelspec": {
   "display_name": "SageMath 8.1",
   "language": "",
   "name": "sagemath"
  },
  "language_info": {
   "codemirror_mode": {
    "name": "ipython",
    "version": 2
   },
   "file_extension": ".py",
   "mimetype": "text/x-python",
   "name": "python",
   "nbconvert_exporter": "python",
   "pygments_lexer": "ipython2",
   "version": "2.7.17"
  }
 },
 "nbformat": 4,
 "nbformat_minor": 2
}
