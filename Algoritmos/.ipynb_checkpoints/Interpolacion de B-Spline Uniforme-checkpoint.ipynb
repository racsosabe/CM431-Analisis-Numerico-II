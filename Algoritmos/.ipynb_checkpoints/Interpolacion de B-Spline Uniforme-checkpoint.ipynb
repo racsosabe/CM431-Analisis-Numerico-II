{
 "cells": [
  {
   "cell_type": "markdown",
   "metadata": {},
   "source": [
    "# Funciones extra"
   ]
  },
  {
   "cell_type": "code",
   "execution_count": 1,
   "metadata": {},
   "outputs": [],
   "source": [
    "# Plot polynomials\n",
    "\n",
    "def plotPoly(polys, name, L, R):\n",
    "    x = var('x')\n",
    "    a = plot([],figsize=(8, 8),title=name)\n",
    "    classic_colors = ['crimson', 'blue', 'green', 'orange', 'purple', 'brown', 'red', 'yellow']\n",
    "    n = len(polys)\n",
    "    assert(n > 0)\n",
    "    assert(len(L) == n and len(R) == n)\n",
    "    for i in range(n):\n",
    "        a += plot(polys[i], x, L[i], R[i], color=colors.keys()[i])\n",
    "    show(a)"
   ]
  },
  {
   "cell_type": "code",
   "execution_count": 2,
   "metadata": {},
   "outputs": [],
   "source": [
    "# Parse polynomial with coefficients\n",
    "\n",
    "def parsePoly(poly):\n",
    "    var('x')\n",
    "    ans = 0\n",
    "    mono = 1;\n",
    "    for i in range(len(poly.list())):\n",
    "        ans += poly.list()[i] * mono\n",
    "        mono *= x\n",
    "    return ans"
   ]
  },
  {
   "cell_type": "code",
   "execution_count": 3,
   "metadata": {},
   "outputs": [],
   "source": [
    "# Plot polynomials with interpolation method \"interpolation\"\n",
    "\n",
    "def plotPolylines(groups, name, interpolation):\n",
    "    polynomials = []\n",
    "    L = []\n",
    "    R = []\n",
    "    for points in groups:\n",
    "        p = parsePoly(interpolation(points))\n",
    "        polynomials.append(p)\n",
    "        minimum = points[0][0]\n",
    "        maximum = points[0][0]\n",
    "        for i in range(1, len(points)):\n",
    "            if points[i][0] < minimum: minimum = points[i][0]\n",
    "            if points[i][0] > maximum: maximum = points[i][0]\n",
    "        L.append(minimum)\n",
    "        R.append(maximum)\n",
    "    plotPoly(polynomials, name, L, R)"
   ]
  },
  {
   "cell_type": "code",
   "execution_count": 4,
   "metadata": {},
   "outputs": [],
   "source": [
    "from sage.misc.lazy_format import LazyFormat\n",
    "\n",
    "def printPolynomials(polys):\n",
    "    for p in polys:\n",
    "        print(p[0])\n",
    "        print(LazyFormat(\"L = %d\") % p[1])\n",
    "        print(LazyFormat(\"R = %d\") % p[2])"
   ]
  },
  {
   "cell_type": "code",
   "execution_count": 5,
   "metadata": {},
   "outputs": [],
   "source": [
    "def plotSpline(polys, name):\n",
    "    polynomials = []\n",
    "    L = []\n",
    "    R = []\n",
    "    for p in polys:\n",
    "        polynomials.append(p[0])\n",
    "        L.append(p[1])\n",
    "        R.append(p[2])\n",
    "    plotPoly(polynomials, name, L, R)"
   ]
  },
  {
   "cell_type": "code",
   "execution_count": 6,
   "metadata": {},
   "outputs": [],
   "source": [
    "def plotBSpline(polys, name):\n",
    "    x = var('x')\n",
    "    a = plot([],figsize=(8, 8),title=name)\n",
    "    for i in range(len(polys)):\n",
    "        p = polys[i]\n",
    "        print(p[0], p[1], p[2], p[2] + 1)\n",
    "        a += parametric_plot([p[0], p[1]], (x, p[2], p[2] + 1))\n",
    "    show(a)"
   ]
  },
  {
   "cell_type": "markdown",
   "metadata": {},
   "source": [
    "# Algoritmos para B-Spline"
   ]
  },
  {
   "cell_type": "code",
   "execution_count": 7,
   "metadata": {},
   "outputs": [],
   "source": [
    "def Gaussian(a, b):\n",
    "    n = len(a)\n",
    "    assert(n > 1)\n",
    "    m = len(a[0])\n",
    "    assert(m > 1)\n",
    "    assert(len(b) == n)\n",
    "    EPS = 1e-15\n",
    "    ans = [None for _ in range(m)]\n",
    "    where = [-1 for _ in range(m)]\n",
    "    row = 0\n",
    "    col = 0\n",
    "    while(row < n and col < m):\n",
    "        sel = row\n",
    "        for i in range(row, n):\n",
    "            if abs(a[i][col]) > abs(a[sel][col]):\n",
    "                sel = i\n",
    "        if abs(a[sel][col]) < EPS:\n",
    "            continue\n",
    "        for i in range(col, m):\n",
    "            a[sel][i], a[row][i] = a[row][i], a[sel][i]\n",
    "        b[sel], b[row] = b[row], b[sel]\n",
    "        where[col] = row\n",
    "        for i in range(n):\n",
    "            if i == row: continue\n",
    "            c = a[i][col] / a[row][col]\n",
    "            for j in range(col, m):\n",
    "                a[i][j] -= a[row][j] * c\n",
    "            b[i] -= b[row] * c\n",
    "        row += 1\n",
    "        col += 1\n",
    "    for i in range(m):\n",
    "        if where[i] == -1: continue\n",
    "        ans[i] = b[where[i]] / a[where[i]][i]\n",
    "    for i in range(n):\n",
    "        s = 0\n",
    "        for j in range(m):\n",
    "            s += a[i][j] * ans[j]\n",
    "        if abs(s - b[i]) > EPS:\n",
    "            for k in range(m):\n",
    "                ans[k] = None\n",
    "            return ans\n",
    "    return ans"
   ]
  },
  {
   "cell_type": "code",
   "execution_count": 11,
   "metadata": {},
   "outputs": [],
   "source": [
    "def mergePolynomials(a, b):\n",
    "    posA = 0\n",
    "    posB = 0\n",
    "    ans = []\n",
    "    while posA < len(a) and posB < len(b):\n",
    "        if a[posA][1] < b[posB][1]:\n",
    "            ans.append(a[posA])\n",
    "            posA += 1\n",
    "        elif b[posB][1] < a[posA][1]:\n",
    "            ans.append(b[posB])\n",
    "            posB += 1\n",
    "        else:\n",
    "            ans.append([a[posA][0] + b[posB][0], a[posA][1]])\n",
    "            posA += 1\n",
    "            posB += 1\n",
    "    while posA < len(a):\n",
    "        ans.append(a[posA])\n",
    "        posA += 1\n",
    "    while posB < len(b):\n",
    "        ans.append(b[posB])\n",
    "        posB += 1\n",
    "    return ans\n",
    "\n",
    "def mergeParametric(a, b):\n",
    "    posA = 0\n",
    "    posB = 0\n",
    "    ans = []\n",
    "    while posA < len(a) and posB < len(b):\n",
    "        if a[posA][2] < b[posB][2]:\n",
    "            ans.append(a[posA])\n",
    "            posA += 1\n",
    "        elif b[posB][2] < a[posA][2]:\n",
    "            ans.append(b[posB])\n",
    "            posB += 1\n",
    "        else:\n",
    "            ans.append([a[posA][0] + b[posB][0], a[posA][1] + b[posB][1], a[posA][2]])\n",
    "            posA += 1\n",
    "            posB += 1\n",
    "    while posA < len(a):\n",
    "        ans.append(a[posA])\n",
    "        posA += 1\n",
    "    while posB < len(b):\n",
    "        ans.append(b[posB])\n",
    "        posB += 1\n",
    "    return ans\n",
    "\n",
    "def multiply(a, polys):\n",
    "    cpoly = [[x[0] * a, x[1]] for x in polys]\n",
    "    return cpoly\n",
    "\n",
    "def multiplyPoint(a, polys):\n",
    "    cpoly = [[x[0] * a[0], x[0] * a[1], x[1]] for x in polys]\n",
    "    return cpoly\n",
    "        \n",
    "def BSplineUniforme(points, k):\n",
    "    n = len(points) - 1\n",
    "    m = n + k + 1\n",
    "    print(k)\n",
    "    \n",
    "    N = [ [ [] for i in range(k)] for j in range(m + 1)]\n",
    "    t = [ i for i in range(m + 1)]\n",
    "    var('x')\n",
    "    for i in range(n + 1):\n",
    "        N[i][0] = [ [1, t[i]] ] # B[i][k], N[i][k]\n",
    "    for j in range(1, k):\n",
    "        for i in range(n):\n",
    "            A = multiply((x - t[i]) / (t[i + j] - t[i]), N[i][j - 1])\n",
    "            B = multiply((t[i + j + 1] - x) / (t[i + j + 1] - t[i+1]), N[i + 1][j - 1])\n",
    "            C = mergePolynomials(A, B)\n",
    "            N[i][j] = C\n",
    "    polynomials = []\n",
    "    result = []\n",
    "    print(N)\n",
    "    print(\"\")\n",
    "    for i in range(n + 1):\n",
    "        result = mergeParametric(result, multiplyPoint(points[i], N[i][k - 1]))\n",
    "    return result[1:-1]"
   ]
  },
  {
   "cell_type": "markdown",
   "metadata": {},
   "source": [
    "# Ejemplo"
   ]
  },
  {
   "cell_type": "code",
   "execution_count": 14,
   "metadata": {},
   "outputs": [
    {
     "name": "stdout",
     "output_type": "stream",
     "text": [
      "4\n",
      "[[[[1, 0]], [[x, 0], [-x + 2, 1]], [[1/2*x^2, 0], [-1/2*(x - 1)*(x - 3) - 1/2*(x - 2)*x, 1], [1/2*(x - 3)^2, 2]], [[1/6*x^3, 0], [-1/6*(x - 1)^2*(x - 4) - 1/6*((x - 1)*(x - 3) + (x - 2)*x)*x, 1], [1/6*(x - 3)^2*x + 1/6*((x - 1)*(x - 3) + (x - 2)*(x - 4))*(x - 4), 2], [-1/6*(x - 4)^3, 3]]], [[[1, 1]], [[x - 1, 1], [-x + 3, 2]], [[1/2*(x - 1)^2, 1], [-1/2*(x - 1)*(x - 3) - 1/2*(x - 2)*(x - 4), 2], [1/2*(x - 4)^2, 3]], [[1/6*(x - 1)^3, 1], [-1/6*(x - 2)^2*(x - 5) - 1/6*((x - 1)*(x - 3) + (x - 2)*(x - 4))*(x - 1), 2], [1/6*(x - 1)*(x - 4)^2 + 1/6*((x - 2)*(x - 4) + (x - 3)*(x - 5))*(x - 5), 3], [-1/6*(x - 5)^3, 4]]], [[[1, 2]], [[x - 2, 2], [-x + 4, 3]], [[1/2*(x - 2)^2, 2], [-1/2*(x - 2)*(x - 4) - 1/2*(x - 3)*(x - 5), 3], [1/2*(x - 5)^2, 4]], [[1/6*(x - 2)^3, 2], [-1/6*(x - 3)^2*(x - 6) - 1/6*((x - 2)*(x - 4) + (x - 3)*(x - 5))*(x - 2), 3], [1/6*(x - 2)*(x - 5)^2 + 1/6*((x - 3)*(x - 5) + (x - 4)*(x - 6))*(x - 6), 4], [-1/6*(x - 6)^3, 5]]], [[[1, 3]], [[x - 3, 3], [-x + 5, 4]], [[1/2*(x - 3)^2, 3], [-1/2*(x - 3)*(x - 5) - 1/2*(x - 4)*(x - 6), 4], [1/2*(x - 6)^2, 5]], [[1/6*(x - 3)^3, 3], [-1/6*(x - 4)^2*(x - 7) - 1/6*((x - 3)*(x - 5) + (x - 4)*(x - 6))*(x - 3), 4], [1/6*(x - 3)*(x - 6)^2 + 1/6*((x - 4)*(x - 6) + (x - 5)*(x - 7))*(x - 7), 5], [-1/6*(x - 7)^3, 6]]], [[[1, 4]], [[x - 4, 4], [-x + 6, 5]], [[1/2*(x - 4)^2, 4], [-1/2*(x - 4)*(x - 6) - 1/2*(x - 5)*(x - 7), 5], [1/2*(x - 7)^2, 6]], [[1/6*(x - 4)^3, 4], [-1/6*(x - 5)^2*(x - 8) - 1/6*((x - 4)*(x - 6) + (x - 5)*(x - 7))*(x - 4), 5], [1/6*(x - 4)*(x - 7)^2 + 1/6*(x - 5)*(x - 7)*(x - 8), 6]]], [[[1, 5]], [[x - 5, 5], [-x + 7, 6]], [[1/2*(x - 5)^2, 5], [-1/2*(x - 5)*(x - 7), 6]], [[1/6*(x - 5)^3, 5], [-1/6*(x - 5)^2*(x - 7), 6]]], [[[1, 6]], [], [], []], [[], [], [], []], [[], [], [], []], [[], [], [], []], [[], [], [], []], [[], [], [], []]]\n",
      "\n",
      "[[80/3*(x - 1)^3 - 25*(x - 1)^2*(x - 4) - 25*((x - 1)*(x - 3) + (x - 2)*x)*x, 6.30000000000000*(x - 1)^3 - 5.91666666666667*(x - 1)^2*(x - 4) - 5.91666666666667*((x - 1)*(x - 3) + (x - 2)*x)*x, 1], [85/3*(x - 2)^3 - 80/3*(x - 2)^2*(x - 5) + 25*(x - 3)^2*x - 80/3*((x - 1)*(x - 3) + (x - 2)*(x - 4))*(x - 1) + 25*((x - 1)*(x - 3) + (x - 2)*(x - 4))*(x - 4), 7.26666666666667*(x - 2)^3 - 6.30000000000000*(x - 2)^2*(x - 5) + 5.91666666666667*(x - 3)^2*x - 6.30000000000000*((x - 1)*(x - 3) + (x - 2)*(x - 4))*(x - 1) + 5.91666666666667*((x - 1)*(x - 3) + (x - 2)*(x - 4))*(x - 4), 2], [30*(x - 3)^3 + 80/3*(x - 1)*(x - 4)^2 - 25*(x - 4)^3 - 85/3*(x - 3)^2*(x - 6) - 85/3*((x - 2)*(x - 4) + (x - 3)*(x - 5))*(x - 2) + 80/3*((x - 2)*(x - 4) + (x - 3)*(x - 5))*(x - 5), 7.61666666666667*(x - 3)^3 + 6.30000000000000*(x - 1)*(x - 4)^2 - 5.91666666666667*(x - 4)^3 - 7.26666666666667*(x - 3)^2*(x - 6) - 7.26666666666667*((x - 2)*(x - 4) + (x - 3)*(x - 5))*(x - 2) + 6.30000000000000*((x - 2)*(x - 4) + (x - 3)*(x - 5))*(x - 5), 3], [95/3*(x - 4)^3 + 85/3*(x - 2)*(x - 5)^2 - 80/3*(x - 5)^3 - 30*(x - 4)^2*(x - 7) - 30*((x - 3)*(x - 5) + (x - 4)*(x - 6))*(x - 3) + 85/3*((x - 3)*(x - 5) + (x - 4)*(x - 6))*(x - 6), 7.88333333333333*(x - 4)^3 + 7.26666666666667*(x - 2)*(x - 5)^2 - 6.30000000000000*(x - 5)^3 - 7.61666666666667*(x - 4)^2*(x - 7) - 7.61666666666667*((x - 3)*(x - 5) + (x - 4)*(x - 6))*(x - 3) + 7.26666666666667*((x - 3)*(x - 5) + (x - 4)*(x - 6))*(x - 6), 4], [100/3*(x - 5)^3 + 30*(x - 3)*(x - 6)^2 - 85/3*(x - 6)^3 - 95/3*(x - 5)^2*(x - 8) - 95/3*((x - 4)*(x - 6) + (x - 5)*(x - 7))*(x - 4) + 30*((x - 4)*(x - 6) + (x - 5)*(x - 7))*(x - 7), 8.35000000000000*(x - 5)^3 + 7.61666666666667*(x - 3)*(x - 6)^2 - 7.26666666666667*(x - 6)^3 - 7.88333333333333*(x - 5)^2*(x - 8) - 7.88333333333333*((x - 4)*(x - 6) + (x - 5)*(x - 7))*(x - 4) + 7.61666666666667*((x - 4)*(x - 6) + (x - 5)*(x - 7))*(x - 7), 5]]\n",
      "(80/3*(x - 1)^3 - 25*(x - 1)^2*(x - 4) - 25*((x - 1)*(x - 3) + (x - 2)*x)*x, 6.30000000000000*(x - 1)^3 - 5.91666666666667*(x - 1)^2*(x - 4) - 5.91666666666667*((x - 1)*(x - 3) + (x - 2)*x)*x, 1, 2)\n",
      "(85/3*(x - 2)^3 - 80/3*(x - 2)^2*(x - 5) + 25*(x - 3)^2*x - 80/3*((x - 1)*(x - 3) + (x - 2)*(x - 4))*(x - 1) + 25*((x - 1)*(x - 3) + (x - 2)*(x - 4))*(x - 4), 7.26666666666667*(x - 2)^3 - 6.30000000000000*(x - 2)^2*(x - 5) + 5.91666666666667*(x - 3)^2*x - 6.30000000000000*((x - 1)*(x - 3) + (x - 2)*(x - 4))*(x - 1) + 5.91666666666667*((x - 1)*(x - 3) + (x - 2)*(x - 4))*(x - 4), 2, 3)\n",
      "(30*(x - 3)^3 + 80/3*(x - 1)*(x - 4)^2 - 25*(x - 4)^3 - 85/3*(x - 3)^2*(x - 6) - 85/3*((x - 2)*(x - 4) + (x - 3)*(x - 5))*(x - 2) + 80/3*((x - 2)*(x - 4) + (x - 3)*(x - 5))*(x - 5), 7.61666666666667*(x - 3)^3 + 6.30000000000000*(x - 1)*(x - 4)^2 - 5.91666666666667*(x - 4)^3 - 7.26666666666667*(x - 3)^2*(x - 6) - 7.26666666666667*((x - 2)*(x - 4) + (x - 3)*(x - 5))*(x - 2) + 6.30000000000000*((x - 2)*(x - 4) + (x - 3)*(x - 5))*(x - 5), 3, 4)\n",
      "(95/3*(x - 4)^3 + 85/3*(x - 2)*(x - 5)^2 - 80/3*(x - 5)^3 - 30*(x - 4)^2*(x - 7) - 30*((x - 3)*(x - 5) + (x - 4)*(x - 6))*(x - 3) + 85/3*((x - 3)*(x - 5) + (x - 4)*(x - 6))*(x - 6), 7.88333333333333*(x - 4)^3 + 7.26666666666667*(x - 2)*(x - 5)^2 - 6.30000000000000*(x - 5)^3 - 7.61666666666667*(x - 4)^2*(x - 7) - 7.61666666666667*((x - 3)*(x - 5) + (x - 4)*(x - 6))*(x - 3) + 7.26666666666667*((x - 3)*(x - 5) + (x - 4)*(x - 6))*(x - 6), 4, 5)\n",
      "(100/3*(x - 5)^3 + 30*(x - 3)*(x - 6)^2 - 85/3*(x - 6)^3 - 95/3*(x - 5)^2*(x - 8) - 95/3*((x - 4)*(x - 6) + (x - 5)*(x - 7))*(x - 4) + 30*((x - 4)*(x - 6) + (x - 5)*(x - 7))*(x - 7), 8.35000000000000*(x - 5)^3 + 7.61666666666667*(x - 3)*(x - 6)^2 - 7.26666666666667*(x - 6)^3 - 7.88333333333333*(x - 5)^2*(x - 8) - 7.88333333333333*((x - 4)*(x - 6) + (x - 5)*(x - 7))*(x - 4) + 7.61666666666667*((x - 4)*(x - 6) + (x - 5)*(x - 7))*(x - 7), 5, 6)\n"
     ]
    },
    {
     "data": {
      "image/png": "[encoded data removed]",
      "text/plain": [
       "Graphics object consisting of 5 graphics primitives"
      ]
     },
     "metadata": {},
     "output_type": "display_data"
    }
   ],
   "source": [
    "points = [(150, 35.5), (160, 37.8), (170, 43.6), (180, 45.7), (190, 47.3), (200, 50.1), (210, 51.2)]\n",
    "\n",
    "B = BSplineUniforme(points, 4)\n",
    "\n",
    "print(B)\n",
    "plotBSpline(B, \"Test\")"
   ]
  },
  {
   "cell_type": "code",
   "execution_count": null,
   "metadata": {},
   "outputs": [],
   "source": []
  },
  {
   "cell_type": "code",
   "execution_count": null,
   "metadata": {},
   "outputs": [],
   "source": []
  }
 ],
 "metadata": {
  "kernelspec": {
   "display_name": "SageMath 8.1",
   "language": "",
   "name": "sagemath"
  },
  "language_info": {
   "codemirror_mode": {
    "name": "ipython",
    "version": 2
   },
   "file_extension": ".py",
   "mimetype": "text/x-python",
   "name": "python",
   "nbconvert_exporter": "python",
   "pygments_lexer": "ipython2",
   "version": "2.7.17"
  }
 },
 "nbformat": 4,
 "nbformat_minor": 2
}
