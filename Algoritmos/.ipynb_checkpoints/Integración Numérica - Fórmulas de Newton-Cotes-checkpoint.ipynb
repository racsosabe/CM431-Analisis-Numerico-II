{
 "cells": [
  {
   "cell_type": "markdown",
   "metadata": {},
   "source": [
    "# Funciones Extra"
   ]
  },
  {
   "cell_type": "code",
   "execution_count": null,
   "metadata": {},
   "outputs": [],
   "source": []
  },
  {
   "cell_type": "code",
   "execution_count": null,
   "metadata": {},
   "outputs": [],
   "source": []
  },
  {
   "cell_type": "code",
   "execution_count": null,
   "metadata": {},
   "outputs": [],
   "source": []
  },
  {
   "cell_type": "markdown",
   "metadata": {},
   "source": [
    "# Algoritmos para Fórmulas de Newton-Cotes"
   ]
  },
  {
   "cell_type": "code",
   "execution_count": null,
   "metadata": {},
   "outputs": [],
   "source": [
    "def NewtonCotes(f, a, b, n, abierta = False):\n",
    "    if abierta:\n",
    "        assert(0 <= n <= 6)\n",
    "        h = (b - a) / (n + 2)\n",
    "        x = [i * h + a for i in range(n + 3)]\n",
    "        if n == 0:\n",
    "            coef = [0, 2 * h, 0]\n",
    "        elif n == 1:\n",
    "            coef = [0, 3 * h / 2, 3 * h / 2, 0]\n",
    "        elif n == 2:\n",
    "            coef = [0, 8 * h / 3, - 4 * h / 3, 8 * h / 3, 0]\n",
    "        elif n == 3:\n",
    "            coef = [0, 55 * h / 24, 5 * h / 24, 5 * h / 24, 55 * h / 24, 0]\n",
    "        elif n == 4:\n",
    "            coef = [0, 66 * h / 20, - 84 * h / 20, 156 * h / 20, - 84 * h / 20, 66 * h / 20, 0]\n",
    "        elif n == 5:\n",
    "            coef = [0, 4277 * h / 1440, - 3171 * h / 1440, 3934 * h / 1440, 3934 * h / 1440, - 3171 * h / 1440, 4277 * h / 1440, 0]\n",
    "        else:\n",
    "            coef = [0, 3680 * h / 945, - 7632 * h / 945, 4496 * h / 945, 4496 * h / 945, - 7632 * h / 945, 3680 * h / 945, 0]\n",
    "    else:\n",
    "        assert(1 <= n <= 10) # WIP\n",
    "        h = (b - a) / n\n",
    "        x = [i * h + a for i in range(n)]\n",
    "        if n == 1:\n",
    "            \n",
    "        I = 0\n",
    "    for i in range(len(x)):\n",
    "        I += f(x[i]) * coef[i]\n",
    "    return I"
   ]
  }
 ],
 "metadata": {
  "kernelspec": {
   "display_name": "SageMath 8.1",
   "language": "",
   "name": "sagemath"
  },
  "language_info": {
   "codemirror_mode": {
    "name": "ipython",
    "version": 2
   },
   "file_extension": ".py",
   "mimetype": "text/x-python",
   "name": "python",
   "nbconvert_exporter": "python",
   "pygments_lexer": "ipython2",
   "version": "2.7.17"
  }
 },
 "nbformat": 4,
 "nbformat_minor": 2
}
