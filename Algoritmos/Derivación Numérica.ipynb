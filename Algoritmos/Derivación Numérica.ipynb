{
 "cells": [
  {
   "cell_type": "code",
   "execution_count": 3,
   "metadata": {},
   "outputs": [],
   "source": [
    "from bisect import *"
   ]
  },
  {
   "cell_type": "code",
   "execution_count": 39,
   "metadata": {},
   "outputs": [],
   "source": [
    "def TresPuntos(points, x, h, tipo = 0):\n",
    "    assert(len(points) >= 3)\n",
    "    X = [p[0] for p in points]\n",
    "    Y = [p[1] for p in points]\n",
    "    assert(0 <= tipo < 2)\n",
    "    if tipo == 0:\n",
    "        coef = [-3, 4, -1]\n",
    "    else:\n",
    "        coef = [-1, 0, 1]\n",
    "    start = x - tipo * h\n",
    "    ans = 0\n",
    "    for i in range(3):\n",
    "        pos = bisect_left(X, start)\n",
    "        if pos == len(points) or abs(X[pos] - start) > 1e-9:\n",
    "            assert(False)\n",
    "        ans += Y[pos] * coef[i]\n",
    "        start += h\n",
    "    return ans / 2 / h"
   ]
  },
  {
   "cell_type": "code",
   "execution_count": 41,
   "metadata": {},
   "outputs": [
    {
     "name": "stdout",
     "output_type": "stream",
     "text": [
      "-4.75000000000001\n"
     ]
    }
   ],
   "source": [
    "x = [(0, 75), (1, 69.9), (2, 65.3), (3, 61), (4, 57.4)]\n",
    "print(TresPuntos(x, 1, 1, 0))"
   ]
  },
  {
   "cell_type": "code",
   "execution_count": 43,
   "metadata": {},
   "outputs": [],
   "source": [
    "def CincoPuntos(points, x, h, tipo = 0):\n",
    "    assert(len(points) >= 5)\n",
    "    X = [p[0] for p in points]\n",
    "    Y = [p[1] for p in points]\n",
    "    assert(0 <= tipo < 5)\n",
    "    if tipo == 0:\n",
    "        coef = [-25, 48, -36, 16, -3]\n",
    "    elif tipo == 1:\n",
    "        coef = [-3, -10, 18, -6, 1]\n",
    "    elif tipo == 2:\n",
    "        coef = [1, -8, 0, 8, 1]\n",
    "    elif tipo == 3:\n",
    "        coef = [4, 6, -8, 34, 3]\n",
    "    else:\n",
    "        coef = [1, -3, 4, -36, 25]\n",
    "    start = x - tipo * h\n",
    "    ans = 0\n",
    "    for i in range(5):\n",
    "        pos = bisect_left(X, start)\n",
    "        if pos == len(points) or abs(X[pos] - start) > 1e-9:\n",
    "            assert(False)\n",
    "        ans += Y[pos] * coef[i]\n",
    "        start += h\n",
    "    return ans / 12 / h"
   ]
  },
  {
   "cell_type": "code",
   "execution_count": 45,
   "metadata": {},
   "outputs": [
    {
     "name": "stdout",
     "output_type": "stream",
     "text": [
      "-5.56666666666662\n"
     ]
    }
   ],
   "source": [
    "x = [(0, 75), (1, 69.9), (2, 65.3), (3, 61), (4, 57.4)]\n",
    "print(CincoPuntos(x, 0, 1, 0))"
   ]
  },
  {
   "cell_type": "code",
   "execution_count": null,
   "metadata": {},
   "outputs": [],
   "source": []
  }
 ],
 "metadata": {
  "kernelspec": {
   "display_name": "SageMath 8.1",
   "language": "",
   "name": "sagemath"
  },
  "language_info": {
   "codemirror_mode": {
    "name": "ipython",
    "version": 2
   },
   "file_extension": ".py",
   "mimetype": "text/x-python",
   "name": "python",
   "nbconvert_exporter": "python",
   "pygments_lexer": "ipython2",
   "version": "2.7.17"
  }
 },
 "nbformat": 4,
 "nbformat_minor": 2
}
