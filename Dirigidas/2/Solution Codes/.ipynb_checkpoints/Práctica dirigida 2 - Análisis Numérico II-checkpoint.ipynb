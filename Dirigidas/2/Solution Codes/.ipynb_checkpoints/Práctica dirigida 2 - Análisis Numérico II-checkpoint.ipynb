{
 "cells": [
  {
   "cell_type": "markdown",
   "metadata": {},
   "source": [
    "# Funciones extra"
   ]
  },
  {
   "cell_type": "code",
   "execution_count": 39,
   "metadata": {},
   "outputs": [],
   "source": [
    "# Plot polynomials\n",
    "\n",
    "def plotPoly(polys, name, L, R):\n",
    "    x = var('x')\n",
    "    a = plot([],figsize=(8, 8),title=name)\n",
    "    classic_colors = ['crimson', 'blue', 'green', 'orange', 'purple', 'brown', 'red', 'yellow']\n",
    "    n = len(polys)\n",
    "    assert(n > 0)\n",
    "    assert(len(L) == n and len(R) == n)\n",
    "    for i in range(n):\n",
    "        a += plot(polys[i], x, L[i], R[i], color='gray')\n",
    "    show(a)"
   ]
  },
  {
   "cell_type": "code",
   "execution_count": 3,
   "metadata": {},
   "outputs": [],
   "source": [
    "# Parse polynomial with coefficients\n",
    "\n",
    "def parsePoly(poly):\n",
    "    var('x')\n",
    "    ans = 0\n",
    "    mono = 1;\n",
    "    for i in range(len(poly.list())):\n",
    "        ans += poly.list()[i] * mono\n",
    "        mono *= x\n",
    "    return ans"
   ]
  },
  {
   "cell_type": "code",
   "execution_count": 4,
   "metadata": {},
   "outputs": [],
   "source": [
    "# Plot polynomials with interpolation method \"interpolation\"\n",
    "\n",
    "def plotPolylines(groups, name, interpolation):\n",
    "    polynomials = []\n",
    "    L = []\n",
    "    R = []\n",
    "    for points in groups:\n",
    "        p = parsePoly(interpolation(points))\n",
    "        polynomials.append(p)\n",
    "        minimum = points[0][0]\n",
    "        maximum = points[0][0]\n",
    "        for i in range(1, len(points)):\n",
    "            if points[i][0] < minimum: minimum = points[i][0]\n",
    "            if points[i][0] > maximum: maximum = points[i][0]\n",
    "        L.append(minimum)\n",
    "        R.append(maximum)\n",
    "    plotPoly(polynomials, name, L, R)"
   ]
  },
  {
   "cell_type": "code",
   "execution_count": 5,
   "metadata": {},
   "outputs": [],
   "source": [
    "from sage.misc.lazy_format import LazyFormat\n",
    "\n",
    "def printPolynomials(polys):\n",
    "    for p in polys:\n",
    "        print(p[0])\n",
    "        print(LazyFormat(\"L = %d\") % p[1])\n",
    "        print(LazyFormat(\"R = %d\") % p[2])"
   ]
  },
  {
   "cell_type": "code",
   "execution_count": 6,
   "metadata": {},
   "outputs": [],
   "source": [
    "def plotSpline(polys, name):\n",
    "    polynomials = []\n",
    "    L = []\n",
    "    R = []\n",
    "    for p in polys:\n",
    "        polynomials.append(p[0])\n",
    "        L.append(p[1])\n",
    "        R.append(p[2])\n",
    "    plotPoly(polynomials, name, L, R)"
   ]
  },
  {
   "cell_type": "code",
   "execution_count": 7,
   "metadata": {},
   "outputs": [],
   "source": [
    "def Gaussian(a, b):\n",
    "    n = len(a)\n",
    "    assert(n > 1)\n",
    "    m = len(a[0])\n",
    "    assert(m > 1)\n",
    "    assert(len(b) == n)\n",
    "    EPS = 1e-15\n",
    "    ans = [None for _ in range(m)]\n",
    "    where = [-1 for _ in range(m)]\n",
    "    row = 0\n",
    "    col = 0\n",
    "    while(row < n and col < m):\n",
    "        sel = row\n",
    "        for i in range(row, n):\n",
    "            if abs(a[i][col]) > abs(a[sel][col]):\n",
    "                sel = i\n",
    "        if abs(a[sel][col]) < EPS:\n",
    "            continue\n",
    "        for i in range(col, m):\n",
    "            a[sel][i], a[row][i] = a[row][i], a[sel][i]\n",
    "        b[sel], b[row] = b[row], b[sel]\n",
    "        where[col] = row\n",
    "        for i in range(n):\n",
    "            if i == row: continue\n",
    "            c = a[i][col] / a[row][col]\n",
    "            for j in range(col, m):\n",
    "                a[i][j] -= a[row][j] * c\n",
    "            b[i] -= b[row] * c\n",
    "        row += 1\n",
    "        col += 1\n",
    "    for i in range(m):\n",
    "        if where[i] == -1: continue\n",
    "        ans[i] = b[where[i]] / a[where[i]][i]\n",
    "    for i in range(n):\n",
    "        s = 0\n",
    "        for j in range(m):\n",
    "            s += a[i][j] * ans[j]\n",
    "        if abs(s - b[i]) > EPS:\n",
    "            for k in range(m):\n",
    "                ans[k] = None\n",
    "            return ans\n",
    "    return ans"
   ]
  },
  {
   "cell_type": "code",
   "execution_count": 8,
   "metadata": {},
   "outputs": [],
   "source": [
    "def CubicSplineNatural(points):\n",
    "    n = int(len(points)) - 1\n",
    "    assert(n > 0)\n",
    "    h = [ points[i+1][0] - points[i][0] for i in range(n)]\n",
    "    beta = [ (points[i+1][1] - points[i][1]) / h[i] for i in range(n) ]\n",
    "    v = [ (None if i == 0 else 6 * (beta[i] - beta[i - 1])) for i in range(n)]\n",
    "    a = [ [0 for _ in range(n - 1)] for _ in range(n - 1) ]\n",
    "    b = [ None for _ in range(n - 1)]\n",
    "    a[0][0] = 2 * (h[0] + h[1])\n",
    "    a[0][1] = h[1]\n",
    "    for i in range(1, n - 2):\n",
    "        a[i][i] = 2 * (h[i] + h[i+1])\n",
    "        a[i][i-1] = h[i]\n",
    "        a[i][i+1] = h[i+1]\n",
    "    a[n-2][n-3] = h[n-2]\n",
    "    a[n-2][n-2] = 2 * (h[n-2] + h[n-1])\n",
    "    for i in range(n - 1):\n",
    "        b[i] = v[i+1]\n",
    "    lamb = Gaussian(a, b) # Solve Linear System Ax = b\n",
    "    lambdas = [None for _ in range(n + 1)]\n",
    "    lambdas[0] = 0\n",
    "    lambdas[n] = 0\n",
    "    for i in range(1, n):\n",
    "        lambdas[i] = lamb[i-1]\n",
    "    A = [points[i][1] for i in range(n)]\n",
    "    B = [ (beta[i] - h[i] * (2 * lambdas[i] + lambdas[i+1]) / 6) for i in range(n)]\n",
    "    C = [lambdas[i] / 2 for i in range(n)]\n",
    "    D = [(lambdas[i+1] - lambdas[i]) / 6 / h[i] for i in range(n)]\n",
    "    polynomials = []\n",
    "    var('x')\n",
    "    for i in range(n):\n",
    "        cur = A[i] + B[i] * (x - points[i][0]) + C[i] * (x - points[i][0]) ** 2 + D[i] * (x - points[i][0]) ** 3\n",
    "        polynomials.append([cur, points[i][0], points[i+1][0]])\n",
    "    return polynomials # Returns polynomials with left and right limits for X"
   ]
  },
  {
   "cell_type": "code",
   "execution_count": 9,
   "metadata": {},
   "outputs": [],
   "source": [
    "def Hermite(points): # (x, y, y', y'', ..., y^(k_i))\n",
    "    #x = R.0\n",
    "    n = len(points)\n",
    "    sumk = 0\n",
    "    for p in points:\n",
    "        sumk += len(p) - 1\n",
    "    assert(sumk > 1)\n",
    "    memo = matrix(QQ, sumk, sumk, 0)\n",
    "    vis = matrix(ZZ, sumk, sumk, 0)\n",
    "    pos = 0\n",
    "    X = []\n",
    "    for p in points:\n",
    "        k = len(p) - 1\n",
    "        r = pos + k # x_i -> pos + 0, pos+1, pos+2, ..., pos + k - 1, Ya no es X_i -> (pos + k)\n",
    "        for i in range(k):\n",
    "            X.append(p[0])\n",
    "        for i in range(pos, r):\n",
    "            for l in range(r - i): # i -> pos + k - 1 = [i, r) -> l in [0, r-i)\n",
    "                memo[i, l] = p[l+1] / factorial(l) # (l = 1 -> y, l = 2 -> y', l = 3 -> y'' ...)\n",
    "                vis[i, l] = 1\n",
    "        pos += k\n",
    "    for l in range(1, sumk):\n",
    "        for i in range(0, sumk - l):\n",
    "            if vis[i, l] == 1: continue\n",
    "            vis[i, l] = 1\n",
    "            memo[i, l] = (memo[i+1][l-1] - memo[i][l-1]) / (X[i+l] - X[i])\n",
    "    ans = 0\n",
    "    prefix = 1\n",
    "    for i in range(sumk):\n",
    "        ans += memo[0][i] * prefix\n",
    "        if i + 1 < sumk: prefix *= (x - X[i]) # (ax + b) * (cx + d) -> (ax + b) * (cx + d)\n",
    "    return ans"
   ]
  },
  {
   "cell_type": "markdown",
   "metadata": {},
   "source": [
    "# Problema 6"
   ]
  },
  {
   "cell_type": "code",
   "execution_count": 105,
   "metadata": {},
   "outputs": [
    {
     "name": "stdout",
     "output_type": "stream",
     "text": [
      "239/8\n",
      "12261/26624\n"
     ]
    },
    {
     "data": {
      "image/png": "[encoded data removed]",
      "text/plain": [
       "Graphics object consisting of 10 graphics primitives"
      ]
     },
     "metadata": {},
     "output_type": "display_data"
    }
   ],
   "source": [
    "ux = 1\n",
    "uy = 1\n",
    "\n",
    "torso = [(36 * ux, 44 * uy), (55 * ux, 42.5 * uy, 0), (80 * ux, 43 * uy), (95 * ux, 37 * uy)]\n",
    "\n",
    "cola = [(92 * ux, 37.8 * uy), (92.5 * ux, 37.4 * uy), (95 * ux, 37 * uy)]\n",
    "\n",
    "cuello = [(29 * ux, 44.5 * uy), (36 * ux, 44 * uy), (41 * ux, 42 * uy)]\n",
    "\n",
    "pierna_trasera = [(89 * ux, 29 * uy), (90.5 * ux, 31.8 * uy), (91 * ux, 33.5 * uy), (92 * ux, 37.8 * uy)]\n",
    "\n",
    "pie_trasero11 = [(76 * ux, 24 * uy), (87 * ux, 239/8 * uy)]\n",
    "\n",
    "panza1 = [(73 * ux, 29 * uy), (85 * ux, 30.5 * uy), (89 * ux, 29 * uy)]\n",
    "\n",
    "panza2 = [(44 * ux, 29 * uy), (57 * ux, 26.5 * uy, 0), (73 * ux, 29 * uy, 1 / 2)]\n",
    "\n",
    "panza3 = [(31 * ux, 30 * uy),  (44 * ux, 29 * uy, -16357/26624)]\n",
    "\n",
    "panza4 = [(29 * ux, 30.5 * uy), (30 * ux, 30.3 * uy, 0), (31 * ux, 30 * uy, 12261/26624)]\n",
    "\n",
    "points = [torso, cuello, cola, pierna_trasera, panza1, panza2, panza3, panza4, pie_trasero11,[(-ux, -uy), (93 * ux, -uy)]]\n",
    "\n",
    "\n",
    "F = parsePoly(Hermite(panza1))\n",
    "print(F(87))\n",
    "\n",
    "P1 = parsePoly(Hermite(panza3))\n",
    "print(derivative(P1)(31 * ux))\n",
    "\n",
    "plotPolylines(points, \"Hermite\", Hermite)"
   ]
  },
  {
   "cell_type": "code",
   "execution_count": null,
   "metadata": {},
   "outputs": [],
   "source": []
  },
  {
   "cell_type": "markdown",
   "metadata": {},
   "source": [
    "# Problema 15"
   ]
  },
  {
   "cell_type": "code",
   "execution_count": null,
   "metadata": {},
   "outputs": [],
   "source": []
  },
  {
   "cell_type": "code",
   "execution_count": null,
   "metadata": {},
   "outputs": [],
   "source": []
  },
  {
   "cell_type": "markdown",
   "metadata": {},
   "source": [
    "# Problema 16"
   ]
  },
  {
   "cell_type": "code",
   "execution_count": null,
   "metadata": {},
   "outputs": [],
   "source": []
  },
  {
   "cell_type": "code",
   "execution_count": null,
   "metadata": {},
   "outputs": [],
   "source": []
  }
 ],
 "metadata": {
  "kernelspec": {
   "display_name": "SageMath 8.1",
   "language": "",
   "name": "sagemath"
  },
  "language_info": {
   "codemirror_mode": {
    "name": "ipython",
    "version": 2
   },
   "file_extension": ".py",
   "mimetype": "text/x-python",
   "name": "python",
   "nbconvert_exporter": "python",
   "pygments_lexer": "ipython2",
   "version": "2.7.17"
  }
 },
 "nbformat": 4,
 "nbformat_minor": 2
}
