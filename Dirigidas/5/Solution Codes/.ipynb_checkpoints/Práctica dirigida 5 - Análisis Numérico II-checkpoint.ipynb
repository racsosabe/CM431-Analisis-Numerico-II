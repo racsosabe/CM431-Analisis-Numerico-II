{
 "cells": [
  {
   "cell_type": "markdown",
   "metadata": {},
   "source": [
    "# Problema 3"
   ]
  },
  {
   "cell_type": "markdown",
   "metadata": {},
   "source": [
    "La ecuacion diferencial:\n",
    "\n",
    "$$ y' = -xy^{2}, y(2) = 1 $$\n",
    "\n",
    "Determine $y(3)$ aproximadamente usando el metodo de Taylor para $n = 2$, con $h = 0.1$ y $h = 0.05$."
   ]
  },
  {
   "cell_type": "markdown",
   "metadata": {},
   "source": [
    "# Solución"
   ]
  },
  {
   "cell_type": "code",
   "execution_count": 7,
   "metadata": {},
   "outputs": [
    {
     "name": "stdout",
     "output_type": "stream",
     "text": [
      "(2, 1)\n",
      "(2.10000000000000, 0.835000000000000)\n",
      "(2.20000000000000, 0.710770889787500)\n",
      "(2.30000000000000, 0.614481336000850)\n",
      "(2.40000000000000, 0.538022194450388)\n",
      "(2.50000000000000, 0.476073195777613)\n",
      "(2.60000000000000, 0.425022291458858)\n",
      "(2.70000000000000, 0.382341818021755)\n",
      "(2.80000000000000, 0.346215450692164)\n",
      "(2.90000000000000, 0.315307420646884)\n",
      "(3.00000000000000, 0.288615206353031)\n",
      "0.288615206353031\n",
      "(2, 1)\n",
      "(2.05000000000000, 0.908750000000000)\n",
      "(2.10000000000000, 0.830955118408484)\n",
      "(2.15000000000000, 0.763916676924397)\n",
      "(2.20000000000000, 0.705605333413683)\n",
      "(2.25000000000000, 0.654467109858534)\n",
      "(2.30000000000000, 0.609292767837255)\n",
      "(2.35000000000000, 0.569127782802453)\n",
      "(2.40000000000000, 0.533208995287833)\n",
      "(2.45000000000000, 0.500919191401909)\n",
      "(2.50000000000000, 0.471753982400055)\n",
      "(2.55000000000000, 0.445297279313458)\n",
      "(2.60000000000000, 0.421202876603149)\n",
      "(2.65000000000000, 0.399180445493239)\n",
      "(2.70000000000000, 0.378984755744561)\n",
      "(2.75000000000000, 0.360407292022727)\n",
      "(2.80000000000000, 0.343269667823179)\n",
      "(2.85000000000000, 0.327418403825328)\n",
      "(2.90000000000000, 0.312720752614984)\n",
      "(2.95000000000000, 0.299061333560421)\n",
      "(3.00000000000000, 0.286339400559044)\n",
      "0.286339400559044\n",
      "0.285714285714286\n"
     ]
    }
   ],
   "source": [
    "def TaylorOrden2(x0, y0, h, f, dfx, dfy, it):\n",
    "    print(x0, y0)\n",
    "    for i in range(1, it + 1):\n",
    "        k1 = h * f(x = x0, y = y0)\n",
    "        k2 = h * h * (dfx(x = x0, y = y0) + f(x = x0, y = y0) * dfy(x = x0, y = y0))\n",
    "        x0 += h\n",
    "        y0 += k1 + k2 / 2\n",
    "        print(x0, y0)\n",
    "    return y0\n",
    "\n",
    "R.<x,y> = RR[]\n",
    "\n",
    "f = -x * y * y\n",
    "dfx = - y * y\n",
    "dfy = - 2 * x * y\n",
    "\n",
    "Y = - 2 / (- x * x + 2)\n",
    "\n",
    "print(TaylorOrden2(2, 1, 0.1, f, dfx, dfy, 10))\n",
    "print(TaylorOrden2(2, 1, 0.05, f, dfx, dfy, 20))\n",
    "print(Y(x = 3))"
   ]
  },
  {
   "cell_type": "markdown",
   "metadata": {},
   "source": [
    "# Problema 12"
   ]
  },
  {
   "cell_type": "markdown",
   "metadata": {},
   "source": [
    "Determine $y(0.5)$, para la ecuacion siguiente por medio del metodo de Runge-Kutta de orden 4, con $h = 0.1$, $y(0) = 0$, $y'(0) = 1$.\n",
    "\n",
    "$$ y'' - 0.2 y' + 0.003 y \\sin{(x)} = 0 $$"
   ]
  },
  {
   "cell_type": "markdown",
   "metadata": {},
   "source": [
    "# Solución"
   ]
  },
  {
   "cell_type": "markdown",
   "metadata": {},
   "source": [
    "## Usando Runge-Kutta para una sola función\n",
    "\n",
    "Podemos integrar respecto a $y$ la ecuación diferencial:\n",
    "\n",
    "$$ \\int y'' - 0.2 y' + 0.003 y \\sin{(x)} dy = \\int 0dy = 0 $$\n",
    "\n",
    "$$ y' - 0.2y + 0.003\\sin{(x)}\\frac{y^{2}}{2} + C = 0 $$\n",
    "\n",
    "Considerando que $y(0) = 0$ y $y'(0) = 1$, podemos hallar el valor de $C$:\n",
    "\n",
    "$$ y'(0) - 0.2y(0) + 0.003\\sin{(x)}\\frac{y(0)^{2}}{2} + C = 0 $$\n",
    "\n",
    "$$ 1 - 0 + 0 + C = 0 $$\n",
    "\n",
    "$$ C = -1 $$\n",
    "\n",
    "Por lo tanto, tenemos la ecuación diferencial:\n",
    "\n",
    "$$ y' - 0.2y + 0.003\\sin{(x)}\\cdot \\frac{y^{2}}{2} - 1 = 0 $$\n",
    "\n",
    "$$ y' = 0.2y - 0.0015 \\sin{(x)}\\cdot y^{2} + 1 $$\n",
    "\n",
    "$$ f(x, y) = 0.2y - 0.0015 \\sin{(x)}\\cdot y^{2} + 1 $$\n",
    "\n",
    "Y con esta forma ya podemos aplicar el método de Runge Kutta de orden 4."
   ]
  },
  {
   "cell_type": "code",
   "execution_count": 8,
   "metadata": {},
   "outputs": [
    {
     "name": "stdout",
     "output_type": "stream",
     "text": [
      "(0, 0)\n",
      "(0.100000000000000, 0.101006661787760)\n",
      "(0.200000000000000, 0.204053248936498)\n",
      "(0.300000000000000, 0.309179538561455)\n",
      "(0.400000000000000, 0.416425118752961)\n",
      "(0.500000000000000, 0.525829387539913)\n",
      "0.525829387539913\n"
     ]
    }
   ],
   "source": [
    "def RK4(x0, y0, h, f, it):\n",
    "    print(x0, y0)\n",
    "    for i in range(1, it + 1):\n",
    "        k1 = h * f(x = x0, y = y0)\n",
    "        k2 = h * f(x = x0 + h / 2, y = y0 + k1 / 2)\n",
    "        k3 = h * f(x = x0 + h / 2, y = y0 + k2 / 2)\n",
    "        k4 = h * f(x = x0 + h, y = y0 + k3)\n",
    "        x0 += h\n",
    "        y0 += (k1 + 2 * k2 + 2 * k3 + k4) / 6\n",
    "        print(x0, y0)\n",
    "    return y0\n",
    "\n",
    "R.<x,y> = RR[]\n",
    "\n",
    "f = 0.2 * y - 0.0015 * sin(x) * y * y + 1\n",
    "\n",
    "g = 2 * x * y + x\n",
    "\n",
    "print(RK4(0, 0, 0.1, f, 5))"
   ]
  },
  {
   "cell_type": "markdown",
   "metadata": {},
   "source": [
    "## Usando Runge-Kutta para un sistema de ecuaciones\n",
    "\n",
    "Consideramos usar dos funciones $u_{1}(x)$ y $u_{2}(x)$ tales que:\n",
    "\n",
    "$$ u_{1}(x) = y(x), u_{1}'(x) = u_{2}(x) $$\n",
    "$$ u_{2}(x) = y'(x), u_{2}'(x) = y''(x) $$\n",
    "\n",
    "Usando la ecuación del problema:\n",
    "\n",
    "$$ u_{1}'(x) = u_{2}(x) $$\n",
    "$$ u_{2}'(x) = 0.2 u_{2}(x) - 0.003 u_{1}(x) \\sin{(x)} $$\n",
    "\n",
    "Para lo anterior podemos plantear el método de Runge-Kutta para un sistema de ecuaciones para hallar $u(0.5)$."
   ]
  },
  {
   "cell_type": "code",
   "execution_count": 9,
   "metadata": {},
   "outputs": [
    {
     "name": "stdout",
     "output_type": "stream",
     "text": [
      "(0, 0, 1)\n",
      "(0.100000000000000, 0.101006674760520, 1.02020032845297)\n",
      "(0.200000000000000, 0.204053463660184, 1.04080260400996)\n",
      "(0.300000000000000, 0.309180657902594, 1.06180876281330)\n",
      "(0.400000000000000, 0.416428746265850, 1.08322084114076)\n",
      "(0.500000000000000, 0.525838431473242, 1.10504110326049)\n",
      "0.525838431473242\n"
     ]
    }
   ],
   "source": [
    "it = 5\n",
    "h = 0.1\n",
    "x0 = 0\n",
    "u10 = 0\n",
    "u20 = 1\n",
    "\n",
    "print(x0, u10, u20)\n",
    "\n",
    "for i in range(1, it + 1): \n",
    "    m1 = h * u20\n",
    "    k1 = h * (0.2 * u20 - 0.003 * u10 * sin(x0))\n",
    "    m2 = h * (u20 + k1 / 2)\n",
    "    k2 = h * (0.2 * (u20 + k1 / 2) - 0.003 * (u10 + m1 / 2) * sin(x0 + h / 2))\n",
    "    m3 = h * (u20 + k2 / 2)\n",
    "    k3 = h * (0.2 * (u20 + k2 / 2) - 0.003 * (u10 + m2 / 2) * sin(x0 + h / 2))\n",
    "    m4 = h * (u20 + k3)\n",
    "    k4 = h * (0.2 * (u20 + k3) - 0.003 * (u10 + m3) * sin(x0 + h))\n",
    "    u10 += (m1 + 2 * m2 + 2 * m3 + m4) / 6\n",
    "    u20 += (k1 + 2 * k2 + 2 * k3 + k4) / 6\n",
    "    x0 += h\n",
    "    print(x0, u10, u20)\n",
    "print(u10)"
   ]
  },
  {
   "cell_type": "markdown",
   "metadata": {},
   "source": [
    "# Problema 15"
   ]
  },
  {
   "cell_type": "markdown",
   "metadata": {},
   "source": [
    "Resolver el sistema:\n",
    "\n",
    "$$ y' = z $$\n",
    "$$ z' = x + y $$\n",
    "\n",
    "para $y(0,5)$, $z(0,5)$, con $h = 0.1$, si $y(0) = 1$, $z(0) = −1$, empleando el metodo de Euler."
   ]
  },
  {
   "cell_type": "markdown",
   "metadata": {},
   "source": [
    "# Solución"
   ]
  },
  {
   "cell_type": "markdown",
   "metadata": {},
   "source": [
    "Recordando las iteraciones del método de Euler:\n",
    "\n",
    "$$ y_{i+1} = y_{i} + h\\cdot f(x_{i}, y_{i}) $$\n",
    "\n",
    "Donde $y' = f(x, y)$.\n",
    "\n",
    "Entonces, podemos plantear un procesamiento *al paralelo* de los valores de $y$ y $z$, ya que están relacionados mediante sus derivadas, de esta forma podemos plantear el obtener $y'$ en base a $z$, para luego obtener $y$ y finalmente obtener $z'$ y $z$:\n",
    "\n",
    "1. Calculamos $y' = f(x_{i}, y_{i}) = z_{i}$\n",
    "\n",
    "2. Calculamos $y_{i + 1}$ ya que tenemos $f(x_{i}, y_{i})$ gracias al paso 1\n",
    "\n",
    "3. Calculamos $z'$ ya que tenemos $y$ gracias al paso 2.\n",
    "\n",
    "4. Calculamos $z$ ya que tenemos $z'$ gracias al paso 3."
   ]
  },
  {
   "cell_type": "code",
   "execution_count": 10,
   "metadata": {},
   "outputs": [
    {
     "name": "stdout",
     "output_type": "stream",
     "text": [
      "(0, 1, -1)\n",
      "(0.100000000000000, 0.900000000000000, -0.900000000000000)\n",
      "(0.200000000000000, 0.810000000000000, -0.800000000000000)\n",
      "(0.300000000000000, 0.730000000000000, -0.699000000000000)\n",
      "(0.400000000000000, 0.660100000000000, -0.596000000000000)\n",
      "(0.500000000000000, 0.600500000000000, -0.489990000000000)\n"
     ]
    }
   ],
   "source": [
    "R.<x, y, z> = RR[]\n",
    "\n",
    "x0 = 0\n",
    "y0 = 1\n",
    "z0 = -1\n",
    "\n",
    "\n",
    "it = round((0.5 - 0) / 0.1) # Cantidad de iteraciones\n",
    "\n",
    "print(x0, y0, z0)\n",
    "\n",
    "for i in range(1, it + 1):\n",
    "    ypi = z0 # Cálculo de y'\n",
    "    zpi = x0 + y0 # Cálculo de z'\n",
    "    y0 += h * ypi # Suma por la iteración\n",
    "    z0 += h * zpi # Suma por la iteración\n",
    "    x0 += h # Suma por la iteración\n",
    "    print(x0, y0, z0)"
   ]
  }
 ],
 "metadata": {
  "kernelspec": {
   "display_name": "SageMath 8.1",
   "language": "",
   "name": "sagemath"
  },
  "language_info": {
   "codemirror_mode": {
    "name": "ipython",
    "version": 2
   },
   "file_extension": ".py",
   "mimetype": "text/x-python",
   "name": "python",
   "nbconvert_exporter": "python",
   "pygments_lexer": "ipython2",
   "version": "2.7.17"
  }
 },
 "nbformat": 4,
 "nbformat_minor": 2
}
