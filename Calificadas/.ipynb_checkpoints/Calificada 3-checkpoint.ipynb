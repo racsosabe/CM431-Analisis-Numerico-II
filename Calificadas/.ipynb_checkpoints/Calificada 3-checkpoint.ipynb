{
 "cells": [
  {
   "cell_type": "markdown",
   "metadata": {},
   "source": [
    "# Funciones extra"
   ]
  },
  {
   "cell_type": "code",
   "execution_count": 8,
   "metadata": {},
   "outputs": [],
   "source": [
    "# Plot polynomials\n",
    "\n",
    "def plotPoly(polys, name, L, R, col = None, f = None):\n",
    "    x = var('x')\n",
    "    a = plot([],figsize=(8, 8),title=name)\n",
    "    classic_colors = ['crimson', 'blue', 'green', 'orange', 'purple', 'brown', 'red', 'yellow']\n",
    "    n = len(polys)\n",
    "    assert(n > 0)\n",
    "    assert(len(L) == n and len(R) == n)\n",
    "    for i in range(n):\n",
    "        if f == None: a += plot(polys[i], x, L[i], R[i], color=col if col != None else classic_colors[i])\n",
    "        else: a += plot(polys[i], x, L[i], R[i], color=col if col != None else classic_colors[i], fill = lambda x : f(x), fillcolor = 'gray')\n",
    "    show(a)"
   ]
  },
  {
   "cell_type": "code",
   "execution_count": 9,
   "metadata": {},
   "outputs": [],
   "source": [
    "def Lagrange(points):\n",
    "    #x = R.0\n",
    "    var('x')\n",
    "    n = len(points)\n",
    "    assert(n > 1)\n",
    "    ans = 0\n",
    "    for i in range(n):\n",
    "        act = points[i][1]\n",
    "        for j in range(n):\n",
    "            if i == j: continue\n",
    "            act *= (x - points[j][0]) / (points[i][0] - points[j][0])\n",
    "        ans += act\n",
    "    return ans"
   ]
  },
  {
   "cell_type": "code",
   "execution_count": 10,
   "metadata": {},
   "outputs": [],
   "source": [
    "def plotDerivative(points, method, name, color = None, f = None):\n",
    "    n = len(points)\n",
    "    assert(n > 1)\n",
    "    pointsdx = points\n",
    "    polys = []\n",
    "    L = []\n",
    "    R = []\n",
    "    for i in range(n-1):\n",
    "        P = Lagrange([pointsdx[i], pointsdx[i+1]])\n",
    "        polys.append(P)\n",
    "        L.append(pointsdx[i][0])\n",
    "        R.append(pointsdx[i+1][0])\n",
    "    plotPoly(polys, name, L, R, color, f)"
   ]
  },
  {
   "cell_type": "code",
   "execution_count": 11,
   "metadata": {},
   "outputs": [],
   "source": [
    "def getPlot(polys, name, L, R, col = None, f = None):\n",
    "    x = var('x')\n",
    "    a = plot([],figsize=(8, 8),title=name)\n",
    "    classic_colors = ['crimson', 'blue', 'green', 'orange', 'purple', 'brown', 'red', 'yellow']\n",
    "    n = len(polys)\n",
    "    assert(n > 0)\n",
    "    assert(len(L) == n and len(R) == n)\n",
    "    for i in range(n):\n",
    "        if f == None: a += plot(polys[i], x, L[i], R[i], color=col if col != None else classic_colors[i])\n",
    "        else: a += plot(polys[i], x, L[i], R[i], color=col if col != None else classic_colors[i], fill = lambda x : f(x), fillcolor = 'gray')\n",
    "    return a"
   ]
  },
  {
   "cell_type": "code",
   "execution_count": 12,
   "metadata": {},
   "outputs": [],
   "source": [
    "def getDerivativePlot(points, method, name, color = None, f = None):\n",
    "    n = len(points)\n",
    "    assert(n > 1)\n",
    "    pointsdx = points\n",
    "    polys = []\n",
    "    L = []\n",
    "    R = []\n",
    "    for i in range(n-1):\n",
    "        P = Lagrange([pointsdx[i], pointsdx[i+1]])\n",
    "        polys.append(P)\n",
    "        L.append(pointsdx[i][0])\n",
    "        R.append(pointsdx[i+1][0])\n",
    "    return getPlot(polys, name, L, R, color, f)"
   ]
  },
  {
   "cell_type": "code",
   "execution_count": 13,
   "metadata": {},
   "outputs": [],
   "source": [
    "from bisect import *\n",
    "\n",
    "def CincoPuntos(points, x, h):\n",
    "    assert(len(points) >= 5)\n",
    "    X = [p[0] for p in points]\n",
    "    Y = [p[1] for p in points]\n",
    "    res = -1e10\n",
    "    for tipo in range(5): # Will test every type \n",
    "        if tipo == 0:\n",
    "            coef = [-25, 48, -36, 16, -3]    \n",
    "        elif tipo == 1:\n",
    "            coef = [-3, -10, 18, -6, 1]\n",
    "        elif tipo == 2:\n",
    "            coef = [1, -8, 0, 8, -1]\n",
    "        elif tipo == 3:\n",
    "            coef = [-1, 6, -18, 10, 3]\n",
    "        else:\n",
    "            coef = [3, -16, 36, -48, 25]\n",
    "        start = x - tipo * h\n",
    "        ans = 0\n",
    "        found = True\n",
    "        for i in range(5):\n",
    "            pos = bisect_left(X, start - 1e-10)\n",
    "            if pos == len(points) or abs(X[pos] - start) > 1e-9:\n",
    "                found = False\n",
    "                break\n",
    "            ans += Y[pos] * coef[i]\n",
    "            start += h\n",
    "        if found:\n",
    "            print(tipo, ans / 12 / h)\n",
    "            res = ans / 12 / h\n",
    "    assert(res > -1e10)\n",
    "    return res"
   ]
  },
  {
   "cell_type": "code",
   "execution_count": 14,
   "metadata": {},
   "outputs": [],
   "source": [
    "from bisect import *\n",
    "\n",
    "def TresPuntos(points, x, h):\n",
    "    assert(len(points) >= 3)\n",
    "    X = [p[0] for p in points]\n",
    "    Y = [p[1] for p in points]\n",
    "    for tipo in range(3): # Will test every type \n",
    "        if tipo == 0:\n",
    "            coef = [-3, 4, -1] # x_0, x_0 + h, x_0 + 2h\n",
    "        elif tipo == 1:\n",
    "            coef = [-1, 0, 1] # x_0 - h, x_0, x_0 + h\n",
    "        else: # x_0 - 2h, x_0 - h, x_0\n",
    "            coef = [1, -4, 3] # x_0 - 2h, x_0 - h, x_0\n",
    "        start = x - tipo * h\n",
    "        ans = 0\n",
    "        found = True\n",
    "        for i in range(3):\n",
    "            pos = bisect_left(X, start - 1e-10)\n",
    "            if pos == len(points) or abs(X[pos] - start) > 1e-9:\n",
    "                found = False\n",
    "                break\n",
    "            ans += Y[pos] * coef[i]\n",
    "            start += h\n",
    "        if found:\n",
    "            return ans / 2 / h\n",
    "    assert(False)"
   ]
  },
  {
   "cell_type": "code",
   "execution_count": 1,
   "metadata": {},
   "outputs": [],
   "source": [
    "def TrapecioCompuesta(points, h):\n",
    "    n = len(points)\n",
    "    I = 0\n",
    "    for i in range(1, n):\n",
    "        I += points[i][1]\n",
    "    I *= 2\n",
    "    I += points[0][1] + points[-1][1]\n",
    "    I *= h / 2\n",
    "    return I"
   ]
  },
  {
   "cell_type": "code",
   "execution_count": 2,
   "metadata": {},
   "outputs": [],
   "source": [
    "def SimpsonCompuesta(points, h):\n",
    "    n = len(points)\n",
    "    I = 0\n",
    "    for i in range(1, n):\n",
    "        if i % 2 == 1:\n",
    "            I += points[i][1] * 4\n",
    "        else:\n",
    "            I += points[i][1] * 2\n",
    "    I += points[0][1] + points[-1][1]\n",
    "    I *= h / 3\n",
    "    return I"
   ]
  },
  {
   "cell_type": "code",
   "execution_count": null,
   "metadata": {},
   "outputs": [],
   "source": [
    "def Simpson38Compuesta(points, h):\n",
    "    n = len(points)\n",
    "    h = (b - a) / 3.0\n",
    "    I = 0\n",
    "    for i in range(1, n):\n",
    "        if i % 3 == 0:\n",
    "            I += 2 * points[i][1]\n",
    "        else:\n",
    "            I += 3 * points[i][1]\n",
    "    I += points[0][1] + points[-1][1]\n",
    "    I *= 3 * h / 8\n",
    "    return I"
   ]
  },
  {
   "cell_type": "code",
   "execution_count": 3,
   "metadata": {},
   "outputs": [],
   "source": [
    "def TrapecioCompuestaConFuncion(f, a, b, n):\n",
    "    h = (b - a) / n\n",
    "    I = 0\n",
    "    for i in range(1, n):\n",
    "        cur_x = a + i * h\n",
    "        I += f(cur_x)\n",
    "    I *= 2\n",
    "    I += f(a) + f(b)\n",
    "    I *= h / 2\n",
    "    return I"
   ]
  },
  {
   "cell_type": "code",
   "execution_count": 4,
   "metadata": {},
   "outputs": [],
   "source": [
    "def SimpsonCompuestaConFuncion(f, a, b, n):\n",
    "    h = (b - a) / n\n",
    "    I = 0\n",
    "    for i in range(1, n):\n",
    "        cur_x = a + i * h\n",
    "        if i % 2 == 1:\n",
    "            I += f(cur_x) * 4\n",
    "        else:\n",
    "            I += f(cur_x) * 2\n",
    "    I += f(a) + f(b)\n",
    "    I *= h / 3\n",
    "    return I"
   ]
  },
  {
   "cell_type": "code",
   "execution_count": 6,
   "metadata": {},
   "outputs": [],
   "source": [
    "def Simpson38CompuestaConFuncion(f, a, b, n):\n",
    "    h = (b - a) / n\n",
    "    I = 0\n",
    "    for i in range(1, n):\n",
    "        cur_x = a + i * h\n",
    "        if i % 3 == 0:\n",
    "            I += 2 * f(cur_x)\n",
    "        else:\n",
    "            I += 3 * f(cur_x)\n",
    "    I += f(a) + f(b)\n",
    "    I *= 3 * h / 8\n",
    "    return I"
   ]
  },
  {
   "cell_type": "markdown",
   "metadata": {},
   "source": [
    "# Soluciones"
   ]
  },
  {
   "cell_type": "markdown",
   "metadata": {},
   "source": [
    "# Pregunta 1"
   ]
  },
  {
   "cell_type": "code",
   "execution_count": 24,
   "metadata": {},
   "outputs": [
    {
     "name": "stdout",
     "output_type": "stream",
     "text": [
      "0.980066577841241626245505358384\n"
     ]
    }
   ],
   "source": [
    "var('x')\n",
    "\n",
    "f = sin(x)\n",
    "\n",
    "df = derivative(f)\n",
    "\n",
    "print(df(0.2).n(digits = 30))"
   ]
  },
  {
   "cell_type": "code",
   "execution_count": 25,
   "metadata": {},
   "outputs": [],
   "source": [
    "def DerivadaCentral(f, x, h):\n",
    "    return (f(x + h) - f(x - h)) / (2 * h)"
   ]
  },
  {
   "cell_type": "code",
   "execution_count": 38,
   "metadata": {},
   "outputs": [
    {
     "name": "stdout",
     "output_type": "stream",
     "text": [
      "0.0000163343612911148738930933177471\n",
      "1.63344414216837208186916541308e-7\n",
      "1.63363056415732899040449410677e-9\n",
      "1.56192836442414773046039044857e-11\n",
      "1.07485131906059905304573476315e-11\n",
      "La mas exacta se da cuando n = 6, con un error de 0.000000000010749\n",
      "0.198668350728384\n",
      "0.198670310861540\n",
      "Derivada con 6 digitos de precision usando n = 6: 0.980067\n",
      "Derivada usando n = 5: 0.980067\n"
     ]
    },
    {
     "name": "stderr",
     "output_type": "stream",
     "text": [
      "/usr/lib/python2.7/dist-packages/sage/repl/ipython_kernel/__main__.py:7: DeprecationWarning: Substitution using function-call syntax and unnamed arguments is deprecated and will be removed from a future release of Sage; you can use named arguments instead, like EXPR(x=..., y=...)\n",
      "See http://trac.sagemath.org/5930 for details.\n",
      "/usr/lib/python2.7/dist-packages/sage/repl/ipython_kernel/__main__.py:20: DeprecationWarning: Substitution using function-call syntax and unnamed arguments is deprecated and will be removed from a future release of Sage; you can use named arguments instead, like EXPR(x=..., y=...)\n",
      "See http://trac.sagemath.org/5930 for details.\n",
      "/usr/lib/python2.7/dist-packages/sage/repl/ipython_kernel/__main__.py:22: DeprecationWarning: Substitution using function-call syntax and unnamed arguments is deprecated and will be removed from a future release of Sage; you can use named arguments instead, like EXPR(x=..., y=...)\n",
      "See http://trac.sagemath.org/5930 for details.\n"
     ]
    }
   ],
   "source": [
    "Exacta = df(0.2)\n",
    "\n",
    "best = -1\n",
    "cur_error = 1e100\n",
    "\n",
    "for n in range(2, 7):\n",
    "    Actual = DerivadaCentral(f, 0.2, 10 ** (-n))\n",
    "    Error = abs(Exacta - Actual)\n",
    "    if Error < cur_error:\n",
    "        best = n\n",
    "        cur_error = Error\n",
    "    print(Error.n(digits = 30))\n",
    "    \n",
    "# Pregunta 1. Hallar el n (h = 10^(-n)) con el que mejor se aproxima la derivada central\n",
    "print(\"La mas exacta se da cuando n = %d, con un error de %.15f\" % (best, cur_error))\n",
    "\n",
    "print(sin(0.2 - 0.000001))\n",
    "print(sin(0.2 + 0.000001))\n",
    "\n",
    "res = (0.198670 - 0.198668) / 0.000002\n",
    "\n",
    "# Pregunta 2. Hallar la derivada central que mejor aproxime\n",
    "\n",
    "print(\"Derivada con 6 digitos de precision usando n = %d: %.6f\" % (best, DerivadaCentral(f, 0.2, 10 ** (-n))))\n",
    "\n",
    "# Pregunta 3. Hallar la derivada cuando n = 5 (h = 10^(-5))\n",
    "\n",
    "print(\"Derivada usando n = 5: %.6f\" %(DerivadaCentral(f, 0.2, 10 ** (-5))))\n",
    "\n",
    "# PD: Los dos salen 30, pero marqué 32 :'v"
   ]
  },
  {
   "cell_type": "markdown",
   "metadata": {},
   "source": [
    "# Pregunta 2"
   ]
  },
  {
   "cell_type": "code",
   "execution_count": 19,
   "metadata": {},
   "outputs": [
    {
     "name": "stdout",
     "output_type": "stream",
     "text": [
      "11.7010420446009334077385345528\n"
     ]
    },
    {
     "name": "stderr",
     "output_type": "stream",
     "text": [
      "/usr/lib/python2.7/dist-packages/sage/repl/ipython_kernel/__main__.py:7: DeprecationWarning: Substitution using function-call syntax and unnamed arguments is deprecated and will be removed from a future release of Sage; you can use named arguments instead, like EXPR(x=..., y=...)\n",
      "See http://trac.sagemath.org/5930 for details.\n"
     ]
    }
   ],
   "source": [
    "var('x')\n",
    "\n",
    "# Pregunta 4. Usar Simpson compuesta con n = 8 para integrar en [1, 3]\n",
    "\n",
    "f = exp(x) / sqrt(x)\n",
    "\n",
    "print((SimpsonCompuestaConFuncion(f, 1, 3, 8)).n(digits = 30))"
   ]
  },
  {
   "cell_type": "code",
   "execution_count": 21,
   "metadata": {},
   "outputs": [
    {
     "name": "stdout",
     "output_type": "stream",
     "text": [
      "11.7008678922047284674748318910\n",
      "11.7440761790991292539761010527\n",
      "0.0432082868944007865012691617029\n"
     ]
    },
    {
     "name": "stderr",
     "output_type": "stream",
     "text": [
      "/usr/lib/python2.7/dist-packages/sage/repl/ipython_kernel/__main__.py:10: DeprecationWarning: Substitution using function-call syntax and unnamed arguments is deprecated and will be removed from a future release of Sage; you can use named arguments instead, like EXPR(x=..., y=...)\n",
      "See http://trac.sagemath.org/5930 for details.\n"
     ]
    }
   ],
   "source": [
    "var('x')\n",
    "\n",
    "# Pregunta 5. Usar Trapecio compuesta con n = 8 y hallar el error de integrar en [1, 3]\n",
    "\n",
    "f = exp(x) / sqrt(x)\n",
    "\n",
    "If = integrate(f)\n",
    "\n",
    "Exacta = If(3) - If(1)\n",
    "Trapecio = TrapecioCompuestaConFuncion(f, 1, 3, 8)\n",
    "\n",
    "print(Exacta.n(digits = 30))\n",
    "print(Trapecio.n(digits = 30))\n",
    "\n",
    "print(abs(Exacta-Trapecio).n(digits = 30))"
   ]
  }
 ],
 "metadata": {
  "kernelspec": {
   "display_name": "SageMath 8.1",
   "language": "",
   "name": "sagemath"
  },
  "language_info": {
   "codemirror_mode": {
    "name": "ipython",
    "version": 2
   },
   "file_extension": ".py",
   "mimetype": "text/x-python",
   "name": "python",
   "nbconvert_exporter": "python",
   "pygments_lexer": "ipython2",
   "version": "2.7.17"
  }
 },
 "nbformat": 4,
 "nbformat_minor": 2
}
