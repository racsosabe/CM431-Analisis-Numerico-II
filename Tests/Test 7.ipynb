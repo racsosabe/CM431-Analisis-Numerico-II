{
 "cells": [
  {
   "cell_type": "code",
   "execution_count": 3,
   "metadata": {},
   "outputs": [],
   "source": [
    "points = [(1, 3.141592), (1.25,3.121858), (1.5,3.659284), (1.75,4.350071), (2,5.224852), (2.25,6.325157), (2.5,7.704886), (2.75,9.432862), (3,11.596390)]"
   ]
  },
  {
   "cell_type": "code",
   "execution_count": 4,
   "metadata": {},
   "outputs": [],
   "source": [
    "def TrapecioCompuesta(points, h):\n",
    "    n = len(points)\n",
    "    I = 0\n",
    "    for i in range(1, n):\n",
    "        I += points[i][1]\n",
    "    I *= 2\n",
    "    I += points[0][1] + points[-1][1]\n",
    "    I *= h / 2\n",
    "    return I"
   ]
  },
  {
   "cell_type": "code",
   "execution_count": 5,
   "metadata": {},
   "outputs": [
    {
     "name": "stdout",
     "output_type": "stream",
     "text": [
      "14.6960877500000\n"
     ]
    }
   ],
   "source": [
    "print(TrapecioCompuesta(points, 0.25))"
   ]
  },
  {
   "cell_type": "code",
   "execution_count": 18,
   "metadata": {},
   "outputs": [],
   "source": [
    "def SimpsonCompuesta(points, h):\n",
    "    n = len(points)\n",
    "    I = 0\n",
    "    for i in range(1, n - 1):\n",
    "        if i % 2 == 1:\n",
    "            I += points[i][1] * 4\n",
    "        else:\n",
    "            I += points[i][1] * 2\n",
    "    I += points[0][1] + points[-1][1]\n",
    "    I *= h / 3\n",
    "    return I"
   ]
  },
  {
   "cell_type": "code",
   "execution_count": 19,
   "metadata": {},
   "outputs": [
    {
     "name": "stdout",
     "output_type": "stream",
     "text": [
      "11.7363181666667\n"
     ]
    }
   ],
   "source": [
    "print(SimpsonCompuesta(points, 0.25))"
   ]
  },
  {
   "cell_type": "code",
   "execution_count": 13,
   "metadata": {},
   "outputs": [],
   "source": [
    "def TrapecioCompuestaConFuncion(f, a, b, n):\n",
    "    h = (b - a) / n\n",
    "    I = 0\n",
    "    for i in range(1, n):\n",
    "        cur_x = a + i * h\n",
    "        I += f(cur_x)\n",
    "    I *= 2\n",
    "    I += f(a) + f(b)\n",
    "    I *= h / 2\n",
    "    return I"
   ]
  },
  {
   "cell_type": "code",
   "execution_count": 20,
   "metadata": {},
   "outputs": [
    {
     "name": "stdout",
     "output_type": "stream",
     "text": [
      "14.3146719778796128377041938181\n",
      "11.7008678922047284674748318910\n"
     ]
    },
    {
     "name": "stderr",
     "output_type": "stream",
     "text": [
      "/usr/lib/python2.7/dist-packages/sage/repl/ipython_kernel/__main__.py:8: DeprecationWarning: Substitution using function-call syntax and unnamed arguments is deprecated and will be removed from a future release of Sage; you can use named arguments instead, like EXPR(x=..., y=...)\n",
      "See http://trac.sagemath.org/5930 for details.\n"
     ]
    }
   ],
   "source": [
    "var('x')\n",
    "f = exp(x) / sqrt(x)\n",
    "\n",
    "# La trapecio simple es la trapecio compuesta con n = 1\n",
    "\n",
    "g = integrate(f)\n",
    "\n",
    "print(TrapecioCompuestaConFuncion(f, 1, 3, 1).n(digits = 30))"
   ]
  },
  {
   "cell_type": "code",
   "execution_count": 25,
   "metadata": {},
   "outputs": [],
   "source": [
    "def SimpsonCompuestaConFuncion(f, a, b, n):\n",
    "    h = (b - a) / n\n",
    "    I = 0\n",
    "    for i in range(1, n):\n",
    "        cur_x = a + i * h\n",
    "        if i % 2 == 1:\n",
    "            I += f(cur_x) * 4\n",
    "        else:\n",
    "            I += f(cur_x) * 2\n",
    "    I += f(a) + f(b)\n",
    "    I *= h / 3\n",
    "    return I"
   ]
  },
  {
   "cell_type": "code",
   "execution_count": 26,
   "metadata": {},
   "outputs": [
    {
     "name": "stdout",
     "output_type": "stream",
     "text": [
      "11.7380262247887772756724638501\n"
     ]
    },
    {
     "name": "stderr",
     "output_type": "stream",
     "text": [
      "/usr/lib/python2.7/dist-packages/sage/repl/ipython_kernel/__main__.py:3: DeprecationWarning: Substitution using function-call syntax and unnamed arguments is deprecated and will be removed from a future release of Sage; you can use named arguments instead, like EXPR(x=..., y=...)\n",
      "See http://trac.sagemath.org/5930 for details.\n",
      "  IPKernelApp.launch_instance(kernel_class=SageKernel)\n"
     ]
    }
   ],
   "source": [
    "# La Simpson simple es igual a la compuesta con n = 2\n",
    "\n",
    "print(SimpsonCompuestaConFuncion(f, 1, 3, 2).n(digits = 30))"
   ]
  },
  {
   "cell_type": "code",
   "execution_count": 17,
   "metadata": {},
   "outputs": [],
   "source": [
    "def Simpson38Simple(f, a, b):\n",
    "    h = (b - a) / 3.0\n",
    "    mi1 = (2 * a + b) / 3.0\n",
    "    mi2 = (a + 2 * b) / 3.0\n",
    "    return 3 * h * (f(a) + 3 * f(mi1) + 3 * f(mi2) + f(b)) / 8"
   ]
  },
  {
   "cell_type": "code",
   "execution_count": 18,
   "metadata": {},
   "outputs": [
    {
     "name": "stdout",
     "output_type": "stream",
     "text": [
      "2.09954118960569\n"
     ]
    },
    {
     "name": "stderr",
     "output_type": "stream",
     "text": [
      "/usr/lib/python2.7/dist-packages/sage/repl/ipython_kernel/__main__.py:1: DeprecationWarning: Substitution using function-call syntax and unnamed arguments is deprecated and will be removed from a future release of Sage; you can use named arguments instead, like EXPR(x=..., y=...)\n",
      "See http://trac.sagemath.org/5930 for details.\n",
      "  from ipykernel.kernelapp import IPKernelApp\n"
     ]
    }
   ],
   "source": [
    "print(Simpson38Simple(f, 1.8, 2.2))"
   ]
  }
 ],
 "metadata": {
  "kernelspec": {
   "display_name": "SageMath 8.1",
   "language": "",
   "name": "sagemath"
  },
  "language_info": {
   "codemirror_mode": {
    "name": "ipython",
    "version": 2
   },
   "file_extension": ".py",
   "mimetype": "text/x-python",
   "name": "python",
   "nbconvert_exporter": "python",
   "pygments_lexer": "ipython2",
   "version": "2.7.17"
  }
 },
 "nbformat": 4,
 "nbformat_minor": 2
}
