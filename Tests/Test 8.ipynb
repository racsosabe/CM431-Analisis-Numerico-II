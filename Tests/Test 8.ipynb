{
 "cells": [
  {
   "cell_type": "markdown",
   "metadata": {},
   "source": [
    "# Cambio de variable de $[0, 3]$ a $[-1, 1]$\n",
    "\n",
    "$$ mx + c $$\n",
    "\n",
    "$$ m(0) + c = -1 $$\n",
    "$$ m(3) + c = 1 $$\n",
    "\n",
    "$$ c = -1 $$\n",
    "$$ 3m + c = 1 $$\n",
    "\n",
    "$$ 3m - 1 = 1 $$\n",
    "\n",
    "$$ m = \\frac{2}{3} $$\n",
    "\n",
    "$$ c = -1 $$\n",
    "\n",
    "$$ m + c = \\frac{2}{3} - 1 = -\\frac{1}{3} $$"
   ]
  },
  {
   "cell_type": "code",
   "execution_count": 1,
   "metadata": {},
   "outputs": [
    {
     "name": "stdout",
     "output_type": "stream",
     "text": [
      "3\n"
     ]
    }
   ],
   "source": [
    "a = 0\n",
    "b = 3\n",
    "print(b - a)\n",
    "x = [sqrt((3 - 2 * sqrt(6 / 5)) / 7), -sqrt((3 - 2 * sqrt(6 / 5)) / 7), sqrt((3 + 2 * sqrt(6 / 5)) / 7), - sqrt((3 + 2 * sqrt(6 / 5)) / 7)]\n",
    "w = [(18 + sqrt(30)) / 36, (18 + sqrt(30)) / 36, (18 - sqrt(30)) / 36, (18 - sqrt(30)) / 36]"
   ]
  },
  {
   "cell_type": "code",
   "execution_count": 2,
   "metadata": {},
   "outputs": [
    {
     "name": "stdout",
     "output_type": "stream",
     "text": [
      "1.20111735517890884002661224800\n"
     ]
    }
   ],
   "source": [
    "raices_positivas = []\n",
    "for x_i in x:\n",
    "    if x_i > 0:\n",
    "        raices_positivas.append(x_i)\n",
    "\n",
    "print(sum(raices_positivas).n(digits = 30))"
   ]
  },
  {
   "cell_type": "code",
   "execution_count": 11,
   "metadata": {},
   "outputs": [
    {
     "name": "stdout",
     "output_type": "stream",
     "text": [
      "[1/36*sqrt(30) + 1/2, 1/36*sqrt(30) + 1/2, -1/36*sqrt(30) + 1/2, -1/36*sqrt(30) + 1/2]\n",
      "1.00000000000000000000000000000\n"
     ]
    }
   ],
   "source": [
    "pesos_positivos = []\n",
    "for w_i in w:\n",
    "    if w_i > 0:\n",
    "        pesos_positivos.append(w_i)\n",
    "print(pesos_positivos)\n",
    "print((sum(pesos_positivos) / 2).n(digits = 30)) # Entre 2 por la multiplicidad de cada peso."
   ]
  },
  {
   "cell_type": "code",
   "execution_count": 9,
   "metadata": {},
   "outputs": [
    {
     "name": "stdout",
     "output_type": "stream",
     "text": [
      "0.00005800000000\n"
     ]
    }
   ],
   "source": [
    "n = 4\n",
    "var('t')\n",
    "\n",
    "f = exp(t) * sin(t) / (1 + t * t)\n",
    "\n",
    "I = 0\n",
    "\n",
    "for i in range(n):\n",
    "    I += (b - a) / 2 * w[i] * f(x[i] * (b - a) / 2 + (a + b) / 2)\n",
    "    \n",
    "Error = abs(round(2.881637 - round(I, 6) , 6))\n",
    "print(Error.n(digits = 10))"
   ]
  }
 ],
 "metadata": {
  "kernelspec": {
   "display_name": "SageMath 8.1",
   "language": "",
   "name": "sagemath"
  },
  "language_info": {
   "codemirror_mode": {
    "name": "ipython",
    "version": 2
   },
   "file_extension": ".py",
   "mimetype": "text/x-python",
   "name": "python",
   "nbconvert_exporter": "python",
   "pygments_lexer": "ipython2",
   "version": "2.7.17"
  }
 },
 "nbformat": 4,
 "nbformat_minor": 2
}
