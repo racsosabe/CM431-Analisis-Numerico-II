{
 "cells": [
  {
   "cell_type": "code",
   "execution_count": 9,
   "metadata": {},
   "outputs": [],
   "source": [
    "def Gaussian(a, b):\n",
    "    n = len(a)\n",
    "    assert(n > 1)\n",
    "    m = len(a[0])\n",
    "    assert(m > 1)\n",
    "    assert(len(b) == n)\n",
    "    EPS = 1e-15\n",
    "    ans = [None for _ in range(m)]\n",
    "    where = [-1 for _ in range(m)]\n",
    "    row = 0\n",
    "    col = 0\n",
    "    while(row < n and col < m):\n",
    "        sel = row\n",
    "        for i in range(row, n):\n",
    "            if abs(a[i][col]) > abs(a[sel][col]):\n",
    "                sel = i\n",
    "        if abs(a[sel][col]) < EPS:\n",
    "            continue\n",
    "        for i in range(col, m):\n",
    "            a[sel][i], a[row][i] = a[row][i], a[sel][i]\n",
    "        b[sel], b[row] = b[row], b[sel]\n",
    "        where[col] = row\n",
    "        for i in range(n):\n",
    "            if i == row: continue\n",
    "            c = a[i][col] / a[row][col]\n",
    "            for j in range(col, m):\n",
    "                a[i][j] -= a[row][j] * c\n",
    "            b[i] -= b[row] * c\n",
    "        row += 1\n",
    "        col += 1\n",
    "    for i in range(m):\n",
    "        if where[i] == -1: continue\n",
    "        ans[i] = b[where[i]] / a[where[i]][i]\n",
    "    for i in range(n):\n",
    "        s = 0\n",
    "        for j in range(m):\n",
    "            s += a[i][j] * ans[j]\n",
    "        if abs(s - b[i]) > EPS:\n",
    "            for k in range(m):\n",
    "                ans[k] = None\n",
    "            return ans\n",
    "    return ans    "
   ]
  },
  {
   "cell_type": "code",
   "execution_count": 119,
   "metadata": {},
   "outputs": [],
   "source": [
    "def CubicSplineSujeta(points, ds0, dsn):\n",
    "    n = len(points) - 1\n",
    "    assert(n > 0)\n",
    "    print(points)\n",
    "    for i in range(n + 1):\n",
    "        print(points[i][0], points[i][1])\n",
    "    h = [ points[i+1][0] - points[i][0] for i in range(n)]\n",
    "    beta = [ (points[i+1][1] - points[i][1]) / h[i] for i in range(n) ]\n",
    "    v = [ (None if i == 0 else 6 * (beta[i] - beta[i - 1])) for i in range(n)]\n",
    "    a = [ [None for _ in range(n - 1)] for _ in range(n - 1) ]\n",
    "    b = [None for _ in range(n - 1)]\n",
    "    a[0][0] = 3 * h[0] / 2 + 2 * h[1]\n",
    "    a[0][1] = h[1]\n",
    "    for i in range(1, n - 2):\n",
    "        a[i][i] = 2 * (h[i] + h[i+1])\n",
    "        a[i][i-1] = h[i]\n",
    "        a[i][i+1] = h[i+1]\n",
    "    a[n-2][n-3] = h[n-2]\n",
    "    a[n-2][n-2] = 2 * h[n-2] + 3 * h[n-1] / 2\n",
    "    b[0] = v[1] - 3 * (beta[0] - ds0)\n",
    "    for i in range(1, n - 2):\n",
    "        b[i] = v[i]\n",
    "    b[n-2] = v[n-1] - 3 * (dsn - beta[n-1])\n",
    "    print(\"H: \")\n",
    "    print(h)\n",
    "    print(\"Beta: \")\n",
    "    print(beta)\n",
    "    print(sum(h[0:n]) + sum(beta[0 : n]))\n",
    "    print(\"Matriz A\")\n",
    "    print(a)\n",
    "    print(\"Vector b\")\n",
    "    print(b)\n",
    "    lamb = Gaussian(a, b)\n",
    "    print(sum(lamb))\n",
    "    lambdas = [None for _ in range(n + 1)]\n",
    "    lambdas[0] = 3 * (beta[0] - ds0) / h[0] - lamb[0] / 2\n",
    "    lambdas[n] = 3 * (dsn - beta[n-1]) / h[n-1] - lamb[n-2] / 2\n",
    "    for i in range(1, n):\n",
    "        lambdas[i] = lamb[i-1]\n",
    "    print(lambdas)\n",
    "    A = [points[i][1] for i in range(n)]\n",
    "    print(\"A:\")\n",
    "    print(A)\n",
    "    B = [ (beta[i] - h[i] * (2 * lambdas[i] + lambdas[i+1]) / 6) for i in range(n)]\n",
    "    print(\"B:\")\n",
    "    print(B)\n",
    "    C = [lambdas[i] / 2 for i in range(n)]\n",
    "    print(\"C:\")\n",
    "    print(C)\n",
    "    D = [(lambdas[i+1] - lambdas[i]) / 6 / h[i] for i in range(n)]\n",
    "    print(\"D:\")\n",
    "    print(D)\n",
    "    print(\"Suma por separad\")\n",
    "    print(sum(A))\n",
    "    print(sum(B))\n",
    "    print(sum(C))\n",
    "    print(sum(D))\n",
    "    polynomials = []\n",
    "    var('x')\n",
    "    for i in range(n):\n",
    "        cur = A[i] + B[i] * (x - points[i][0]) + C[i] * (x - points[i][0]) ** 2 + D[i] * (x - points[i][0]) ** 3\n",
    "        print(cur)\n",
    "        polynomials.append([cur, points[i][0], points[i+1][0]])\n",
    "    return polynomials"
   ]
  },
  {
   "cell_type": "code",
   "execution_count": 120,
   "metadata": {},
   "outputs": [
    {
     "name": "stdout",
     "output_type": "stream",
     "text": [
      "[(1, 1), (8, 2), (27, 3), (64, 4)]\n",
      "(1, 1)\n",
      "(8, 2)\n",
      "(27, 3)\n",
      "(64, 4)\n",
      "H: \n",
      "[7, 19, 37]\n",
      "Beta: \n",
      "[1/7, 1/19, 1/37]\n",
      "311118/4921\n",
      "Matriz A\n",
      "[[97/2, 19], [19, 187/2]]\n",
      "Vector b\n",
      "[0.0300651879699250, -0.135036230440967]\n",
      "-0.000417780723390027\n",
      "[-0.0822753435019033, 0.00128823802421476, -0.00170601874760479, 0.000350547722962365]\n",
      "A:\n",
      "[1, 2, 3]\n",
      "B:\n",
      "[0.333330000000000, 0.0498751308280901, 0.0459062139558848]\n",
      "C:\n",
      "[-0.0411376717509517, 0.000644119012107381, -0.000853009373802394]\n",
      "D:\n",
      "[0.00198960908395519, -0.0000262654102791189, 9.26381293048268e-6]\n",
      "Suma por separad\n",
      "6\n",
      "0.429111344783975\n",
      "-0.0413465621126467\n",
      "0.00197260748660656\n",
      "0.00198960908395519*(x - 1)^3 - 0.0411376717509517*(x - 1)^2 + 0.333330000000000*x + 0.666670000000000\n",
      "-0.0000262654102791189*(x - 8)^3 + 0.000644119012107381*(x - 8)^2 + 0.0498751308280901*x + 1.60099895337528\n",
      "(9.26381293048268e-6)*(x - 27)^3 - 0.000853009373802394*(x - 27)^2 + 0.0459062139558848*x + 1.76053222319111\n"
     ]
    }
   ],
   "source": [
    "points = [(1, 1), (8, 2), (27, 3), (64, 4)]\n",
    "\n",
    "P = CubicSplineSujeta(points, 0.33333, 0.02083)"
   ]
  },
  {
   "cell_type": "code",
   "execution_count": 111,
   "metadata": {},
   "outputs": [
    {
     "name": "stdout",
     "output_type": "stream",
     "text": [
      "Printing coefficients:\n",
      "[0.623542719165093, 0.421574170753769, -0.0471064990028172, 0.00198960908395519]\n",
      "[1.65567046021306, 0.0345262678607812, 0.00127448885880623, -0.0000262654102791189]\n",
      "[0.956348759778473, 0.112228679020180, -0.00160337822117149, 9.26381293048268e-6]\n"
     ]
    }
   ],
   "source": [
    "print(\"Printing coefficients:\")\n",
    "for p in P:\n",
    "    print(p.list())"
   ]
  },
  {
   "cell_type": "code",
   "execution_count": 105,
   "metadata": {},
   "outputs": [
    {
     "name": "stdout",
     "output_type": "stream",
     "text": [
      "[0.623545600000000, 0.421570800000000, -0.0471060000000000, 0.00198960000000000]\n"
     ]
    }
   ],
   "source": [
    "var('x') # Polynomial 1\n",
    "p0 = 1 + (x-1) * (0.3333276 - (x-1) * (0.0411372 - (x-1) * 0.0019896))\n",
    "print(p0.list())"
   ]
  },
  {
   "cell_type": "code",
   "execution_count": 106,
   "metadata": {},
   "outputs": [
    {
     "name": "stdout",
     "output_type": "stream",
     "text": [
      "[1.01478800000000, -0.0103677000000000, 0.00127530000000000, -0.0000263000000000000]\n"
     ]
    }
   ],
   "source": [
    "var('x')\n",
    "p1 = 1 + (x-8) * (0.0049875 + (x-8) * (0.0006441 - (x-8) * 0.0000263))\n",
    "print(p1.list())"
   ]
  },
  {
   "cell_type": "code",
   "execution_count": 107,
   "metadata": {},
   "outputs": [
    {
     "name": "stdout",
     "output_type": "stream",
     "text": [
      "[1.65568800000000, 0.0345198000000000, 0.00127530000000000, -0.0000263000000000000]\n"
     ]
    }
   ],
   "source": [
    "var('x') # Polynomial 2\n",
    "p2 = 2 + (x-8) * (0.049875 + (x-8) * (0.0006441 - (x-8) * (0.0000263)))\n",
    "print(p2.list())"
   ]
  },
  {
   "cell_type": "code",
   "execution_count": 109,
   "metadata": {},
   "outputs": [
    {
     "name": "stdout",
     "output_type": "stream",
     "text": [
      "[0.955673400000000, 0.112306200000000, -0.00160630000000000, 9.30000000000000e-6]\n"
     ]
    }
   ],
   "source": [
    "var('x') # Polynomial 3\n",
    "p3 = 3 + (x-27) * (0.0459051 - (x-27) * (0.000853 - (x-27) * 0.0000093))\n",
    "print(p3.list())"
   ]
  },
  {
   "cell_type": "code",
   "execution_count": 110,
   "metadata": {},
   "outputs": [
    {
     "name": "stdout",
     "output_type": "stream",
     "text": [
      "[1.32177720000000, 0.0716280000000000, -0.0000997000000000000, -9.30000000000000e-6]\n"
     ]
    }
   ],
   "source": [
    "var('x')\n",
    "p4 = 3 + (x-27) * (0.0459051 - (x-27) * (0.000853 + (x-27) * 0.0000093))\n",
    "print(p4.list())"
   ]
  },
  {
   "cell_type": "code",
   "execution_count": 117,
   "metadata": {},
   "outputs": [],
   "source": [
    "def plotPoly(polys, name, L, R):\n",
    "    x = var('x')\n",
    "    a = plot([],figsize=(8, 8),title=name)\n",
    "    classic_colors = ['crimson', 'blue', 'green', 'orange', 'purple', 'brown', 'red', 'yellow']\n",
    "    n = len(polys)\n",
    "    assert(n > 0)\n",
    "    assert(len(L) == n and len(R) == n)\n",
    "    for i in range(n):\n",
    "        a += plot(polys[i], x, L[i], R[i], color=colors.keys()[i])\n",
    "    show(a)"
   ]
  },
  {
   "cell_type": "code",
   "execution_count": 118,
   "metadata": {},
   "outputs": [
    {
     "data": {
      "image/png": "[encoded data removed]",
      "text/plain": [
       "Graphics object consisting of 3 graphics primitives"
      ]
     },
     "metadata": {},
     "output_type": "display_data"
    }
   ],
   "source": [
    "L = []\n",
    "R = []\n",
    "polys = []\n",
    "for p in P:\n",
    "    polys.append(p[0])\n",
    "    L.append(p[1])\n",
    "    R.append(p[2])\n",
    "plotPoly(polys, \"Cercha cubica sujeta\", L, R)"
   ]
  },
  {
   "cell_type": "code",
   "execution_count": null,
   "metadata": {},
   "outputs": [],
   "source": []
  }
 ],
 "metadata": {
  "kernelspec": {
   "display_name": "SageMath 8.1",
   "language": "",
   "name": "sagemath"
  },
  "language_info": {
   "codemirror_mode": {
    "name": "ipython",
    "version": 2
   },
   "file_extension": ".py",
   "mimetype": "text/x-python",
   "name": "python",
   "nbconvert_exporter": "python",
   "pygments_lexer": "ipython2",
   "version": "2.7.17"
  }
 },
 "nbformat": 4,
 "nbformat_minor": 2
}
